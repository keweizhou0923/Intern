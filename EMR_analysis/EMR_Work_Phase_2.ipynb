{
 "cells": [
  {
   "cell_type": "code",
   "execution_count": 4,
   "metadata": {},
   "outputs": [],
   "source": [
    "import pandas as pd\n",
    "import numpy as np\n",
    "import matplotlib.pyplot as plt\n",
    "import os\n",
    "import seaborn as sns"
   ]
  },
  {
   "cell_type": "code",
   "execution_count": 5,
   "metadata": {},
   "outputs": [],
   "source": [
    "data_dir= \"C:\\\\Users\\\\KZ26677\\\\Desktop\\\\JD project\\\\EMR\\\\EMR\\\\data\""
   ]
  },
  {
   "cell_type": "code",
   "execution_count": 6,
   "metadata": {},
   "outputs": [
    {
     "name": "stderr",
     "output_type": "stream",
     "text": [
      "C:\\ProgramData\\Anaconda3\\lib\\site-packages\\IPython\\core\\interactiveshell.py:2785: DtypeWarning: Columns (2,3,5,7,11,13,14,15,16,17,19,20,21,23,25,29,30,31,33,34,35,36,38,41,42,43,45,46,47) have mixed types. Specify dtype option on import or set low_memory=False.\n",
      "  interactivity=interactivity, compiler=compiler, result=result)\n"
     ]
    }
   ],
   "source": [
    "#read in csv export of Business Analyst data at block group level\n",
    "R23_df  = pd.read_csv(os.path.join(data_dir,\"r12_all_wZS_LTFC.csv\"))\n"
   ]
  },
  {
   "cell_type": "code",
   "execution_count": 8,
   "metadata": {},
   "outputs": [
    {
     "data": {
      "text/html": [
       "<div>\n",
       "<style scoped>\n",
       "    .dataframe tbody tr th:only-of-type {\n",
       "        vertical-align: middle;\n",
       "    }\n",
       "\n",
       "    .dataframe tbody tr th {\n",
       "        vertical-align: top;\n",
       "    }\n",
       "\n",
       "    .dataframe thead th {\n",
       "        text-align: right;\n",
       "    }\n",
       "</style>\n",
       "<table border=\"1\" class=\"dataframe\">\n",
       "  <thead>\n",
       "    <tr style=\"text-align: right;\">\n",
       "      <th></th>\n",
       "      <th>table</th>\n",
       "      <th>OBJECTID</th>\n",
       "      <th>Join_Count</th>\n",
       "      <th>TARGET_FID</th>\n",
       "      <th>MKT_CLS_NM</th>\n",
       "      <th>DMC_ID</th>\n",
       "      <th>PROD_PARENT_DSC</th>\n",
       "      <th>MACHINE_SIZE</th>\n",
       "      <th>SIZE_CLASS_DSC</th>\n",
       "      <th>CTGRY_LVL_3_NM</th>\n",
       "      <th>...</th>\n",
       "      <th>F_MEAN</th>\n",
       "      <th>F_L</th>\n",
       "      <th>FxL</th>\n",
       "      <th>C_MEAN</th>\n",
       "      <th>OBJECTID.1</th>\n",
       "      <th>GEOID</th>\n",
       "      <th>ZONE_CODE</th>\n",
       "      <th>COUNT</th>\n",
       "      <th>AREA</th>\n",
       "      <th>L_MEAN</th>\n",
       "    </tr>\n",
       "  </thead>\n",
       "  <tbody>\n",
       "    <tr>\n",
       "      <th>0</th>\n",
       "      <td>sag</td>\n",
       "      <td>1</td>\n",
       "      <td>1</td>\n",
       "      <td>1</td>\n",
       "      <td>SMALL AG</td>\n",
       "      <td>4346802</td>\n",
       "      <td>DEALER PERFORMANCE</td>\n",
       "      <td>24.2</td>\n",
       "      <td>UNDER 30 ENGINE HP</td>\n",
       "      <td>TRACTORS</td>\n",
       "      <td>...</td>\n",
       "      <td>0.917886</td>\n",
       "      <td>0.961676</td>\n",
       "      <td>0.040194</td>\n",
       "      <td>0.000000</td>\n",
       "      <td>210812.0</td>\n",
       "      <td>5.401797e+11</td>\n",
       "      <td>210812.0</td>\n",
       "      <td>86611.0</td>\n",
       "      <td>77949900.0</td>\n",
       "      <td>4.379005</td>\n",
       "    </tr>\n",
       "    <tr>\n",
       "      <th>1</th>\n",
       "      <td>sag</td>\n",
       "      <td>2</td>\n",
       "      <td>1</td>\n",
       "      <td>2</td>\n",
       "      <td>SMALL AG</td>\n",
       "      <td>4317689</td>\n",
       "      <td>DEALER PERFORMANCE</td>\n",
       "      <td>25</td>\n",
       "      <td>UNDER 30 ENGINE HP</td>\n",
       "      <td>TRACTORS</td>\n",
       "      <td>...</td>\n",
       "      <td>0.524644</td>\n",
       "      <td>0.553910</td>\n",
       "      <td>0.015354</td>\n",
       "      <td>0.000061</td>\n",
       "      <td>127102.0</td>\n",
       "      <td>3.600996e+11</td>\n",
       "      <td>127102.0</td>\n",
       "      <td>131916.0</td>\n",
       "      <td>118724400.0</td>\n",
       "      <td>2.926597</td>\n",
       "    </tr>\n",
       "    <tr>\n",
       "      <th>2</th>\n",
       "      <td>sag</td>\n",
       "      <td>3</td>\n",
       "      <td>1</td>\n",
       "      <td>3</td>\n",
       "      <td>SMALL AG</td>\n",
       "      <td>4346802</td>\n",
       "      <td>DEALER PERFORMANCE</td>\n",
       "      <td>24.2</td>\n",
       "      <td>UNDER 30 ENGINE HP</td>\n",
       "      <td>TRACTORS</td>\n",
       "      <td>...</td>\n",
       "      <td>0.145186</td>\n",
       "      <td>0.191079</td>\n",
       "      <td>0.006663</td>\n",
       "      <td>0.000016</td>\n",
       "      <td>213722.0</td>\n",
       "      <td>5.502501e+11</td>\n",
       "      <td>213722.0</td>\n",
       "      <td>60660.0</td>\n",
       "      <td>54594000.0</td>\n",
       "      <td>4.589268</td>\n",
       "    </tr>\n",
       "    <tr>\n",
       "      <th>3</th>\n",
       "      <td>sag</td>\n",
       "      <td>4</td>\n",
       "      <td>1</td>\n",
       "      <td>4</td>\n",
       "      <td>SMALL AG</td>\n",
       "      <td>1743573</td>\n",
       "      <td>DEALER PERFORMANCE</td>\n",
       "      <td>85</td>\n",
       "      <td>80 &amp; UNDER 90 ENGINE HP</td>\n",
       "      <td>TRACTORS</td>\n",
       "      <td>...</td>\n",
       "      <td>0.000000</td>\n",
       "      <td>0.407867</td>\n",
       "      <td>0.000000</td>\n",
       "      <td>0.000000</td>\n",
       "      <td>10074.0</td>\n",
       "      <td>6.029003e+10</td>\n",
       "      <td>10074.0</td>\n",
       "      <td>858.0</td>\n",
       "      <td>772200.0</td>\n",
       "      <td>40.786713</td>\n",
       "    </tr>\n",
       "    <tr>\n",
       "      <th>4</th>\n",
       "      <td>sag</td>\n",
       "      <td>5</td>\n",
       "      <td>1</td>\n",
       "      <td>5</td>\n",
       "      <td>SMALL AG</td>\n",
       "      <td>1815262</td>\n",
       "      <td>DEALER PERFORMANCE</td>\n",
       "      <td>170</td>\n",
       "      <td>170 &amp; UNDER 180 ENGINE HP</td>\n",
       "      <td>TRACTORS</td>\n",
       "      <td>...</td>\n",
       "      <td>0.346577</td>\n",
       "      <td>0.374430</td>\n",
       "      <td>0.009653</td>\n",
       "      <td>0.000000</td>\n",
       "      <td>108382.0</td>\n",
       "      <td>2.915948e+11</td>\n",
       "      <td>108382.0</td>\n",
       "      <td>261414.0</td>\n",
       "      <td>235272600.0</td>\n",
       "      <td>2.785333</td>\n",
       "    </tr>\n",
       "  </tbody>\n",
       "</table>\n",
       "<p>5 rows × 73 columns</p>\n",
       "</div>"
      ],
      "text/plain": [
       "  table  OBJECTID Join_Count TARGET_FID MKT_CLS_NM   DMC_ID  \\\n",
       "0   sag         1          1          1   SMALL AG  4346802   \n",
       "1   sag         2          1          2   SMALL AG  4317689   \n",
       "2   sag         3          1          3   SMALL AG  4346802   \n",
       "3   sag         4          1          4   SMALL AG  1743573   \n",
       "4   sag         5          1          5   SMALL AG  1815262   \n",
       "\n",
       "                  PROD_PARENT_DSC MACHINE_SIZE  \\\n",
       "0  DEALER PERFORMANCE                     24.2   \n",
       "1  DEALER PERFORMANCE                       25   \n",
       "2  DEALER PERFORMANCE                     24.2   \n",
       "3  DEALER PERFORMANCE                       85   \n",
       "4  DEALER PERFORMANCE                      170   \n",
       "\n",
       "                        SIZE_CLASS_DSC CTGRY_LVL_3_NM    ...        F_MEAN  \\\n",
       "0  UNDER 30 ENGINE HP                        TRACTORS    ...      0.917886   \n",
       "1  UNDER 30 ENGINE HP                        TRACTORS    ...      0.524644   \n",
       "2  UNDER 30 ENGINE HP                        TRACTORS    ...      0.145186   \n",
       "3  80 & UNDER 90 ENGINE HP                   TRACTORS    ...      0.000000   \n",
       "4  170 & UNDER 180 ENGINE HP                 TRACTORS    ...      0.346577   \n",
       "\n",
       "        F_L       FxL    C_MEAN OBJECTID.1         GEOID ZONE_CODE     COUNT  \\\n",
       "0  0.961676  0.040194  0.000000   210812.0  5.401797e+11  210812.0   86611.0   \n",
       "1  0.553910  0.015354  0.000061   127102.0  3.600996e+11  127102.0  131916.0   \n",
       "2  0.191079  0.006663  0.000016   213722.0  5.502501e+11  213722.0   60660.0   \n",
       "3  0.407867  0.000000  0.000000    10074.0  6.029003e+10   10074.0     858.0   \n",
       "4  0.374430  0.009653  0.000000   108382.0  2.915948e+11  108382.0  261414.0   \n",
       "\n",
       "          AREA     L_MEAN  \n",
       "0   77949900.0   4.379005  \n",
       "1  118724400.0   2.926597  \n",
       "2   54594000.0   4.589268  \n",
       "3     772200.0  40.786713  \n",
       "4  235272600.0   2.785333  \n",
       "\n",
       "[5 rows x 73 columns]"
      ]
     },
     "execution_count": 8,
     "metadata": {},
     "output_type": "execute_result"
    }
   ],
   "source": [
    "R23_df.head()"
   ]
  },
  {
   "cell_type": "code",
   "execution_count": 10,
   "metadata": {},
   "outputs": [
    {
     "data": {
      "text/html": [
       "<div>\n",
       "<style scoped>\n",
       "    .dataframe tbody tr th:only-of-type {\n",
       "        vertical-align: middle;\n",
       "    }\n",
       "\n",
       "    .dataframe tbody tr th {\n",
       "        vertical-align: top;\n",
       "    }\n",
       "\n",
       "    .dataframe thead th {\n",
       "        text-align: right;\n",
       "    }\n",
       "</style>\n",
       "<table border=\"1\" class=\"dataframe\">\n",
       "  <thead>\n",
       "    <tr style=\"text-align: right;\">\n",
       "      <th></th>\n",
       "      <th>table</th>\n",
       "      <th>OBJECTID</th>\n",
       "      <th>Join_Count</th>\n",
       "      <th>TARGET_FID</th>\n",
       "      <th>MKT_CLS_NM</th>\n",
       "      <th>DMC_ID</th>\n",
       "      <th>PROD_PARENT_DSC</th>\n",
       "      <th>MACHINE_SIZE</th>\n",
       "      <th>SIZE_CLASS_DSC</th>\n",
       "      <th>CTGRY_LVL_3_NM</th>\n",
       "      <th>...</th>\n",
       "      <th>F_MEAN</th>\n",
       "      <th>F_L</th>\n",
       "      <th>FxL</th>\n",
       "      <th>C_MEAN</th>\n",
       "      <th>OBJECTID.1</th>\n",
       "      <th>GEOID</th>\n",
       "      <th>ZONE_CODE</th>\n",
       "      <th>COUNT</th>\n",
       "      <th>AREA</th>\n",
       "      <th>L_MEAN</th>\n",
       "    </tr>\n",
       "  </thead>\n",
       "  <tbody>\n",
       "    <tr>\n",
       "      <th>483679</th>\n",
       "      <td>low</td>\n",
       "      <td>69049</td>\n",
       "      <td>1</td>\n",
       "      <td>69049</td>\n",
       "      <td>TURF</td>\n",
       "      <td>TURF AND UTILITY</td>\n",
       "      <td>RIDING LAWN EQUIPMENT</td>\n",
       "      <td>100 SERIES LAWN TRACTORS</td>\n",
       "      <td>E100 SERIES</td>\n",
       "      <td>E130</td>\n",
       "      <td>...</td>\n",
       "      <td>100474.0</td>\n",
       "      <td>2.612520e+11</td>\n",
       "      <td>100474.0</td>\n",
       "      <td>2990.0</td>\n",
       "      <td>2691000.0</td>\n",
       "      <td>66.876254</td>\n",
       "      <td>NaN</td>\n",
       "      <td>NaN</td>\n",
       "      <td>NaN</td>\n",
       "      <td>NaN</td>\n",
       "    </tr>\n",
       "    <tr>\n",
       "      <th>483680</th>\n",
       "      <td>low</td>\n",
       "      <td>69050</td>\n",
       "      <td>1</td>\n",
       "      <td>69050</td>\n",
       "      <td>TURF</td>\n",
       "      <td>TURF AND UTILITY</td>\n",
       "      <td>RIDING LAWN EQUIPMENT</td>\n",
       "      <td>100 SERIES LAWN TRACTORS</td>\n",
       "      <td>E100 SERIES</td>\n",
       "      <td>E140</td>\n",
       "      <td>...</td>\n",
       "      <td>174035.0</td>\n",
       "      <td>4.503501e+11</td>\n",
       "      <td>174035.0</td>\n",
       "      <td>25877.0</td>\n",
       "      <td>23289300.0</td>\n",
       "      <td>9.677706</td>\n",
       "      <td>NaN</td>\n",
       "      <td>NaN</td>\n",
       "      <td>NaN</td>\n",
       "      <td>NaN</td>\n",
       "    </tr>\n",
       "    <tr>\n",
       "      <th>483681</th>\n",
       "      <td>low</td>\n",
       "      <td>69051</td>\n",
       "      <td>1</td>\n",
       "      <td>69051</td>\n",
       "      <td>TURF</td>\n",
       "      <td>TURF AND UTILITY</td>\n",
       "      <td>RIDING LAWN EQUIPMENT</td>\n",
       "      <td>RESIDENTIAL ZERO TURN MOWERS</td>\n",
       "      <td>E SERIES</td>\n",
       "      <td>Z355E</td>\n",
       "      <td>...</td>\n",
       "      <td>183645.0</td>\n",
       "      <td>4.816595e+11</td>\n",
       "      <td>183645.0</td>\n",
       "      <td>1000295.0</td>\n",
       "      <td>900265500.0</td>\n",
       "      <td>5.305190</td>\n",
       "      <td>NaN</td>\n",
       "      <td>NaN</td>\n",
       "      <td>NaN</td>\n",
       "      <td>NaN</td>\n",
       "    </tr>\n",
       "    <tr>\n",
       "      <th>483682</th>\n",
       "      <td>low</td>\n",
       "      <td>69052</td>\n",
       "      <td>1</td>\n",
       "      <td>69052</td>\n",
       "      <td>TURF</td>\n",
       "      <td>TURF AND UTILITY</td>\n",
       "      <td>RIDING LAWN EQUIPMENT</td>\n",
       "      <td>100 SERIES LAWN TRACTORS</td>\n",
       "      <td>E100 SERIES</td>\n",
       "      <td>E140</td>\n",
       "      <td>...</td>\n",
       "      <td>131566.0</td>\n",
       "      <td>3.608305e+11</td>\n",
       "      <td>131566.0</td>\n",
       "      <td>5949.0</td>\n",
       "      <td>5354100.0</td>\n",
       "      <td>15.462263</td>\n",
       "      <td>NaN</td>\n",
       "      <td>NaN</td>\n",
       "      <td>NaN</td>\n",
       "      <td>NaN</td>\n",
       "    </tr>\n",
       "    <tr>\n",
       "      <th>483683</th>\n",
       "      <td>low</td>\n",
       "      <td>69053</td>\n",
       "      <td>1</td>\n",
       "      <td>69053</td>\n",
       "      <td>TURF</td>\n",
       "      <td>TURF AND UTILITY</td>\n",
       "      <td>RIDING LAWN EQUIPMENT</td>\n",
       "      <td>RESIDENTIAL ZERO TURN MOWERS</td>\n",
       "      <td>E SERIES</td>\n",
       "      <td>Z335E</td>\n",
       "      <td>...</td>\n",
       "      <td>202468.0</td>\n",
       "      <td>5.177000e+11</td>\n",
       "      <td>202468.0</td>\n",
       "      <td>2994.0</td>\n",
       "      <td>2694600.0</td>\n",
       "      <td>68.912826</td>\n",
       "      <td>NaN</td>\n",
       "      <td>NaN</td>\n",
       "      <td>NaN</td>\n",
       "      <td>NaN</td>\n",
       "    </tr>\n",
       "  </tbody>\n",
       "</table>\n",
       "<p>5 rows × 73 columns</p>\n",
       "</div>"
      ],
      "text/plain": [
       "       table  OBJECTID Join_Count TARGET_FID MKT_CLS_NM            DMC_ID  \\\n",
       "483679   low     69049          1      69049       TURF  TURF AND UTILITY   \n",
       "483680   low     69050          1      69050       TURF  TURF AND UTILITY   \n",
       "483681   low     69051          1      69051       TURF  TURF AND UTILITY   \n",
       "483682   low     69052          1      69052       TURF  TURF AND UTILITY   \n",
       "483683   low     69053          1      69053       TURF  TURF AND UTILITY   \n",
       "\n",
       "              PROD_PARENT_DSC                  MACHINE_SIZE SIZE_CLASS_DSC  \\\n",
       "483679  RIDING LAWN EQUIPMENT      100 SERIES LAWN TRACTORS    E100 SERIES   \n",
       "483680  RIDING LAWN EQUIPMENT      100 SERIES LAWN TRACTORS    E100 SERIES   \n",
       "483681  RIDING LAWN EQUIPMENT  RESIDENTIAL ZERO TURN MOWERS       E SERIES   \n",
       "483682  RIDING LAWN EQUIPMENT      100 SERIES LAWN TRACTORS    E100 SERIES   \n",
       "483683  RIDING LAWN EQUIPMENT  RESIDENTIAL ZERO TURN MOWERS       E SERIES   \n",
       "\n",
       "       CTGRY_LVL_3_NM  ...      F_MEAN           F_L       FxL     C_MEAN  \\\n",
       "483679           E130  ...    100474.0  2.612520e+11  100474.0     2990.0   \n",
       "483680           E140  ...    174035.0  4.503501e+11  174035.0    25877.0   \n",
       "483681          Z355E  ...    183645.0  4.816595e+11  183645.0  1000295.0   \n",
       "483682           E140  ...    131566.0  3.608305e+11  131566.0     5949.0   \n",
       "483683          Z335E  ...    202468.0  5.177000e+11  202468.0     2994.0   \n",
       "\n",
       "         OBJECTID.1      GEOID ZONE_CODE COUNT AREA L_MEAN  \n",
       "483679    2691000.0  66.876254       NaN   NaN  NaN    NaN  \n",
       "483680   23289300.0   9.677706       NaN   NaN  NaN    NaN  \n",
       "483681  900265500.0   5.305190       NaN   NaN  NaN    NaN  \n",
       "483682    5354100.0  15.462263       NaN   NaN  NaN    NaN  \n",
       "483683    2694600.0  68.912826       NaN   NaN  NaN    NaN  \n",
       "\n",
       "[5 rows x 73 columns]"
      ]
     },
     "execution_count": 10,
     "metadata": {},
     "output_type": "execute_result"
    }
   ],
   "source": [
    "R23_df.tail()"
   ]
  },
  {
   "cell_type": "code",
   "execution_count": 13,
   "metadata": {
    "scrolled": true
   },
   "outputs": [
    {
     "data": {
      "text/plain": [
       "RIDING LAWN EQUIPMENT              165951\n",
       "TURF                               164116\n",
       "SMALL AG                            91585\n",
       "TURF AND UTILITY IMPLEMENTS         23624\n",
       "COMMERCIAL MOWING                   22176\n",
       "UTILITY VEHICLES                    14493\n",
       "EQUIPMENT FOR  UTILITY TRACTORS       512\n",
       "GOLF                                   42\n",
       "WALK-BEHIND PRODUCTS                   18\n",
       "LARGE AG                                2\n",
       "WORKSITE WORK TOOLS                     1\n",
       "ISG                                     1\n",
       "UTILITY (1,2,3,4,5 SERIES)              1\n",
       "Name: MKT_CLS_NM, dtype: int64"
      ]
     },
     "execution_count": 13,
     "metadata": {},
     "output_type": "execute_result"
    }
   ],
   "source": [
    "R23_df[\"MKT_CLS_NM\"].value_counts()\n",
    "\n",
    "# CTGRY_LVL_3_NM\n",
    "# CTGRY_LVL_4_NM\n",
    "# CTGRY_LVL_5_NM\n",
    "# CTGRY_LVL_7_NM\n",
    "# MODEL_NUM\n",
    "# INOVICE_PRICE\n",
    "# PURCHASE_TYPE\n",
    "# AG_SEG_NM\n",
    "# END_USE_OF_PROD_NM\n",
    "# List_price\n",
    "# L_MEAN\n"
   ]
  },
  {
   "cell_type": "code",
   "execution_count": 15,
   "metadata": {},
   "outputs": [
    {
     "data": {
      "text/plain": [
       "TRACTORS          86871\n",
       "E100              16303\n",
       "E130              11109\n",
       "E110               9596\n",
       "E140               8378\n",
       "E170               7366\n",
       "Z335E              4930\n",
       "HAY AND FORAGE     4652\n",
       "Z930M              4456\n",
       "Z355E              4224\n",
       "XUV825I            3999\n",
       "E180               3620\n",
       "E120               3128\n",
       "D105               2919\n",
       "XUV835M            2851\n",
       "TX 4X2             2589\n",
       "Z345M              2547\n",
       "Z915E              2520\n",
       "TS 4X2             2263\n",
       "Z950M              2239\n",
       "E150               2211\n",
       "XUV835R            1907\n",
       "Z525E              1786\n",
       "E160               1764\n",
       "XUV825M            1565\n",
       "Z920M              1496\n",
       "TURF TX 4X2        1319\n",
       "Z960M              1267\n",
       "HPX615E            1136\n",
       "Z535M              1132\n",
       "                  ...  \n",
       "GXE170E019079         1\n",
       "GX355RB083724         1\n",
       "M0X590E130010         1\n",
       "M0X350B055176         1\n",
       "GXE120E011495         1\n",
       "GXZ335B072787         1\n",
       "M0X390A070140         1\n",
       "GXE120E021987         1\n",
       "M054SBX075286         1\n",
       "M0X350A065541         1\n",
       "GX345RB082679         1\n",
       "GXE120E029908         1\n",
       "GXS240G825660         1\n",
       "GX345RB081403         1\n",
       "GXE140E025992         1\n",
       "TC925MV040723         1\n",
       "M0X350B052615         1\n",
       "M0825MA013391         1\n",
       "M0X390A051504         1\n",
       "TC920MA060106         1\n",
       "M0X350A056304         1\n",
       "M0X380A036412         1\n",
       "M044FBG012086         1\n",
       "GXS240F827966         1\n",
       "GXE110E011038         1\n",
       "M0X730A061546         1\n",
       "M0X590E132204         1\n",
       "M054SBX090654         1\n",
       "M0X350A066832         1\n",
       "M054CBC134737         1\n",
       "Name: CTGRY_LVL_3_NM, Length: 221761, dtype: int64"
      ]
     },
     "execution_count": 15,
     "metadata": {},
     "output_type": "execute_result"
    }
   ],
   "source": [
    "R23_df[\"CTGRY_LVL_3_NM\"].value_counts()"
   ]
  },
  {
   "cell_type": "code",
   "execution_count": 16,
   "metadata": {},
   "outputs": [
    {
     "data": {
      "text/plain": [
       "N                              204570\n",
       "UTILITY (1,2,3,4,5 SERIES)      74011\n",
       "U                               23411\n",
       "E100                            16303\n",
       "MID (6, 7 SERIES)               12860\n",
       "E130                            11109\n",
       "E110                             9596\n",
       "E140                             8378\n",
       "E170                             7366\n",
       "Z335E                            4930\n",
       "4X2                              4889\n",
       "Z930M                            4456\n",
       "Z355E                            4224\n",
       "BALERS                           3691\n",
       "E180                             3620\n",
       "E120                             3128\n",
       "D105                             2919\n",
       "XUV835M                          2851\n",
       "Z345M                            2547\n",
       "Z915E                            2520\n",
       "Z950M                            2239\n",
       "E150                             2211\n",
       "825I                             2210\n",
       "ATTACHMENTS                      1984\n",
       "XUV835R                          1907\n",
       "XUV825I                          1789\n",
       "Z525E                            1786\n",
       "E160                             1764\n",
       "TE/TX 4X2                        1636\n",
       "XUV825M                          1565\n",
       "                                ...  \n",
       "38                                  2\n",
       "WE85                                2\n",
       "JS36                                2\n",
       "F910/F915/F930/F935                 2\n",
       "8500                                2\n",
       "CP48                                2\n",
       "LX266-16HP                          2\n",
       "WE80                                2\n",
       "LX288                               2\n",
       "3215                                2\n",
       "650                                 2\n",
       "LX178                               1\n",
       "LX176                               1\n",
       "L17.542                             1\n",
       "GREENSTAR/4640 GEN4 DISPLAY         1\n",
       "GT225                               1\n",
       "M655                                1\n",
       "46                                  1\n",
       "45                                  1\n",
       "LT133                               1\n",
       "GX355                               1\n",
       "717                                 1\n",
       "180B                                1\n",
       "727                                 1\n",
       "S2554                               1\n",
       "657                                 1\n",
       "4455                                1\n",
       "1025 R                              1\n",
       "S1642                               1\n",
       "LTR180                              1\n",
       "Name: CTGRY_LVL_4_NM, Length: 398, dtype: int64"
      ]
     },
     "execution_count": 16,
     "metadata": {},
     "output_type": "execute_result"
    }
   ],
   "source": [
    "R23_df[\"CTGRY_LVL_4_NM\"].value_counts()"
   ]
  },
  {
   "cell_type": "code",
   "execution_count": 17,
   "metadata": {},
   "outputs": [
    {
     "data": {
      "text/plain": [
       "1 FAMILY TRACTORS     23554\n",
       "5 FAMILY TRACTORS     16180\n",
       "3 FAMILY TRACTORS     16056\n",
       "2559.2                14710\n",
       "1639.18               14009\n",
       "6 FAMILY TRACTORS     12860\n",
       "1999.2                 8600\n",
       "1444.15                7984\n",
       "1557.18                6806\n",
       "4 FAMILY TRACTORS      6740\n",
       "2879.2                 6711\n",
       "3519.2                 5966\n",
       "2 FAMILY TRACTORS      5834\n",
       "SPECIALTY TRACTORS     5647\n",
       "2239.2                 4748\n",
       "2399.2                 4203\n",
       "3199.2                 3947\n",
       "ROUND BALERS           3640\n",
       "6319.2                 2991\n",
       "5839.2                 2899\n",
       "1177.5                 2859\n",
       "5039.2                 2588\n",
       "4799.2                 2560\n",
       "1899.2                 2447\n",
       "3759.2                 2439\n",
       "4079.2                 2382\n",
       "1274.1500000000003     2340\n",
       "4319.2                 2282\n",
       "1721.18                2100\n",
       "2139.2                 1984\n",
       "                      ...  \n",
       "GXE110E021815             1\n",
       "M0835MA012139             1\n",
       "GX335EB084453             1\n",
       "GXE160E017881             1\n",
       "GXE130E036540             1\n",
       "M0825MB011199             1\n",
       "TC930MV060237             1\n",
       "M04X2SJ121823             1\n",
       "TCZ997R031865             1\n",
       "GX335EB090687             1\n",
       "GXE170E016914             1\n",
       "TC652RK060359             1\n",
       "M0835MD011024             1\n",
       "GXE100E048301             1\n",
       "M0220EA080509             1\n",
       "TC930MC065309             1\n",
       "GXE140E019933             1\n",
       "GXD110E524496             1\n",
       "GXE100E019638             1\n",
       "TC202AT100299             1\n",
       "GXE170E016715             1\n",
       "GXE110E019395             1\n",
       "GXE130E026449             1\n",
       "TC1570V040029             1\n",
       "GXE130E036084             1\n",
       "GXE100E046989             1\n",
       "TC203AF100346             1\n",
       "TC636MG060320             1\n",
       "GXE140E024798             1\n",
       "TC930MC063560             1\n",
       "Name: CTGRY_LVL_5_NM, Length: 161378, dtype: int64"
      ]
     },
     "execution_count": 17,
     "metadata": {},
     "output_type": "execute_result"
    }
   ],
   "source": [
    "R23_df[\"CTGRY_LVL_5_NM\"].value_counts()"
   ]
  },
  {
   "cell_type": "code",
   "execution_count": 18,
   "metadata": {},
   "outputs": [
    {
     "data": {
      "text/plain": [
       "N                            137574\n",
       "U                             26548\n",
       "1R SERIES TRACTORS            17363\n",
       "5E SERIES TRACTORS            15194\n",
       "3E SERIES TRACTORS            12409\n",
       "6M SERIES TRACTORS             5422\n",
       "1E SERIES TRACTORS             5345\n",
       "2R SERIES TRACTORS             4903\n",
       "5M SERIES TRACTORS             3903\n",
       "6R SERIES TRACTORS             3750\n",
       "4/30/2018 0:00:00              3641\n",
       "4M SERIES TRACTORS             3184\n",
       "5/14/2018 0:00:00              2873\n",
       "2/28/2018 0:00:00              2582\n",
       "3R SERIES TRACTORS             2316\n",
       "7/5/2018 0:00:00               2274\n",
       "5/30/2018 0:00:00              2104\n",
       "5/31/2018 0:00:00              2087\n",
       "4R SERIES TRACTORS             2073\n",
       "5/29/2018 0:00:00              2067\n",
       "5/25/2018 0:00:00              2014\n",
       "5/8/2018 0:00:00               1989\n",
       "5/15/2018 0:00:00              1980\n",
       "6/4/2018 0:00:00               1966\n",
       "5/11/2018 0:00:00              1961\n",
       "5/21/2018 0:00:00              1960\n",
       "4/27/2018 0:00:00              1954\n",
       "5/22/2018 0:00:00              1939\n",
       "5/23/2018 0:00:00              1806\n",
       "6/12/2018 0:00:00              1783\n",
       "                              ...  \n",
       "9/9/2018 0:00:00                 20\n",
       "10/7/2018 0:00:00                19\n",
       "12/31/2017 0:00:00               18\n",
       "ROW CROP HARVESTING UNITS        18\n",
       "1/28/2018 0:00:00                18\n",
       "8/26/2018 0:00:00                16\n",
       "11/11/2018 0:00:00               15\n",
       "9/16/2018 0:00:00                15\n",
       "12/24/2017 0:00:00               15\n",
       "300 SERIES                       14\n",
       "9/2/2018 0:00:00                 13\n",
       "1/21/2018 0:00:00                13\n",
       "1/7/2018 0:00:00                 11\n",
       "12/3/2017 0:00:00                11\n",
       "10/28/2018 0:00:00               10\n",
       "3/11/2018 0:00:00                 9\n",
       "10/14/2018 0:00:00                8\n",
       "11/18/2018 0:00:00                7\n",
       "1/14/2018 0:00:00                 7\n",
       "2/4/2018 0:00:00                  7\n",
       "3/4/2018 0:00:00                  6\n",
       "2/11/2018 0:00:00                 6\n",
       "100 SERIES TLB                    6\n",
       "11/4/2018 0:00:00                 5\n",
       "AUGER PLATFORMS                   4\n",
       "F SERIES TRACTORS                 4\n",
       "11/22/2018 0:00:00                4\n",
       "700 SERIES TRACTORS               3\n",
       "12/25/2017 0:00:00                3\n",
       "9 SERIES                          2\n",
       "Name: CTGRY_LVL_7_NM, Length: 425, dtype: int64"
      ]
     },
     "execution_count": 18,
     "metadata": {},
     "output_type": "execute_result"
    }
   ],
   "source": [
    "R23_df[\"CTGRY_LVL_7_NM\"].value_counts()"
   ]
  },
  {
   "cell_type": "code",
   "execution_count": 19,
   "metadata": {},
   "outputs": [
    {
     "data": {
      "text/plain": [
       "1025 R                17042\n",
       "1639.18               12539\n",
       "1967.18                7147\n",
       "3025E                  5907\n",
       "1274.1500000000003     5400\n",
       "1023E                  5345\n",
       "5075E                  4792\n",
       "1444.15                4759\n",
       "3038E                  4195\n",
       "5055E                  3596\n",
       "5065E                  3473\n",
       "1274.07                2973\n",
       "1557.18                2948\n",
       "2025R                  2877\n",
       "5045E                  2646\n",
       "3032E                  2307\n",
       "1639.07                2083\n",
       "2038R                  2026\n",
       "4044M                  1943\n",
       "2295.18                1933\n",
       "1444.1199999999997     1692\n",
       "5115M                  1403\n",
       "6110M                  1308\n",
       "6155M                  1277\n",
       "6120M                  1222\n",
       "1721.18                1119\n",
       "5100M                  1057\n",
       "1274.1                 1046\n",
       "5829.38                1044\n",
       "4066R                  1036\n",
       "                      ...  \n",
       "678192107.0               1\n",
       "762602474.0               1\n",
       "687820703.0               1\n",
       "763651047.0               1\n",
       "763651043.0               1\n",
       "763651075.0               1\n",
       "763651079.0               1\n",
       "763651128.0               1\n",
       "662049405.0               1\n",
       "763651125.0               1\n",
       "763971253.0               1\n",
       "765748275.0               1\n",
       "763842452.0               1\n",
       "676095022.0               1\n",
       "678192171.0               1\n",
       "763651113.0               1\n",
       "2831.62                   1\n",
       "747065237.0               1\n",
       "758932510.0               1\n",
       "765748233.0               1\n",
       "763842454.0               1\n",
       "725902364.0               1\n",
       "702833688.0               1\n",
       "763651095.0               1\n",
       "761269005.0               1\n",
       "1526.27                   1\n",
       "665212958.0               1\n",
       "762602510.0               1\n",
       "763651084.0               1\n",
       "763363327.0               1\n",
       "Name: MODEL_NUM, Length: 224971, dtype: int64"
      ]
     },
     "execution_count": 19,
     "metadata": {},
     "output_type": "execute_result"
    }
   ],
   "source": [
    "R23_df[\"MODEL_NUM\"].value_counts()"
   ]
  },
  {
   "cell_type": "code",
   "execution_count": 60,
   "metadata": {},
   "outputs": [
    {
     "data": {
      "text/plain": [
       "count    254944.000000\n",
       "mean      15762.552356\n",
       "std       31749.128724\n",
       "min           0.000000\n",
       "25%           2.000000\n",
       "50%           3.000000\n",
       "75%       21743.441558\n",
       "max      248477.000000\n",
       "Name: list_price, dtype: float64"
      ]
     },
     "execution_count": 60,
     "metadata": {},
     "output_type": "execute_result"
    }
   ],
   "source": [
    "R23_df['list_price'].describe()"
   ]
  },
  {
   "cell_type": "code",
   "execution_count": 25,
   "metadata": {},
   "outputs": [
    {
     "data": {
      "text/plain": [
       "count     273333.0\n",
       "unique     23929.0\n",
       "top            0.0\n",
       "freq      153312.0\n",
       "Name: INVOICE_PRICE, dtype: float64"
      ]
     },
     "execution_count": 25,
     "metadata": {},
     "output_type": "execute_result"
    }
   ],
   "source": [
    "R23_df['INVOICE_PRICE'].describe()"
   ]
  },
  {
   "cell_type": "code",
   "execution_count": 27,
   "metadata": {},
   "outputs": [
    {
     "data": {
      "text/plain": [
       "array(['Residential', 'Commercial', 'KS   ', 'OH   ', 'MN   ', 'ND   ',\n",
       "       'GA   ', 'IA   ', 'VA   ', 'IN   ', 'FL   ', 'MO   ', 'PR   ',\n",
       "       'ME   ', 'LA   ', 'WA   ', 'SC   ', 'AL   ', 'MI   ', 'TX   ',\n",
       "       'TN   ', 'CO   ', 'NY   ', 'SD   ', 'NJ   ', 'KY   ', 'OK   ',\n",
       "       'NM   ', 'CA   ', 'MD   ', 'IL   ', 'UT   ', 'WY   ', 'NE   ',\n",
       "       'PA   ', 'CT   ', 'AZ   ', 'NC   ', 'WI   ', 'MA   ', 'ID   ',\n",
       "       'NV   ', 'AR   ', 'MT   ', 'MS   ', 'VT   ', 'DE   ', 'WV   ',\n",
       "       'NH   ', 'OR   ', 'HI   ', 'RI   ', 'AK   ', 'AA   ', 'DC   ',\n",
       "       'VI   ', 'AP   ', 'GU   ', 'CCMH           ', 'LPO            ',\n",
       "       'UNSIZEDPRODUCER', '               ', 'SPO            ', nan,\n",
       "       'PARTTIME       ', 'PLC            ', 'FACILITIESMGT  ',\n",
       "       'TRADITIONAL    ', 'LARGE          ', 'ASP            ',\n",
       "       'PARKS/CEMETERY ', 'JDDEALER       ', 'RENTAL         ',\n",
       "       'COMMERCIALOTHER', 'PUBLIC         ', 'EXTRALARGE     ',\n",
       "       'CMPTVDEALER    ', 'GOLFCOURSE     ', 'FORESTRY       '],\n",
       "      dtype=object)"
      ]
     },
     "execution_count": 27,
     "metadata": {},
     "output_type": "execute_result"
    }
   ],
   "source": [
    "R23_df['PURCHASE_TYPE'].unique()"
   ]
  },
  {
   "cell_type": "code",
   "execution_count": 29,
   "metadata": {},
   "outputs": [
    {
     "data": {
      "text/plain": [
       "array(['PLC            ', '               ', 'LPO            ', ...,\n",
       "       '085754', '040415', '035049'], dtype=object)"
      ]
     },
     "execution_count": 29,
     "metadata": {},
     "output_type": "execute_result"
    }
   ],
   "source": [
    "R23_df[\"AG_SEG_NM\"].unique()"
   ]
  },
  {
   "cell_type": "code",
   "execution_count": 30,
   "metadata": {},
   "outputs": [
    {
     "data": {
      "text/plain": [
       "array(['RESIDENTIAL', 'GENERAL AGRI UTILITY', 'ROW CROP & SM. GRAIN',\n",
       "       'BUILDING, RESIDEN.', 'LIGHT DUTY MAINT', 'CONST/MAINT:HIWAY/ST',\n",
       "       'INDEPENDENT RENTL CO', 'SPECIALTY CROP', 'LIVESTK/DAIRY/FEEDLT',\n",
       "       'JD DLR OWNED RNTL CO', 'PARKS', 'HIGHWAY MOWING',\n",
       "       'FOREST HARVESTING', 'NURSERY & LANDSCAPE', 'BUILDING, NONRESIDEN',\n",
       "       'GOLF COURSES', 'LAND IMPROVEMENT', 'JD DLR RENTAL FLEET',\n",
       "       'UNDEFINED GOVT USE', 'MTL HDLG-MFG & INDUS', 'OIL FIELD',\n",
       "       'RAILROADS', 'WASTE MANAGEMENT', 'PAVING:HIWAY/ST/LOT',\n",
       "       'OTHER END USE', 'CONST/MNT:RUNWAY/APR',\n",
       "       'LANDSCAPE & PROPERTY MANAGEMENT', 'LANDFILL & REFUSE',\n",
       "       'STONE/AGGREG. MINING', 'TELEPHONE COMPANY', 'SEWER & WATER SYS.',\n",
       "       'GAS,WATER,ELEC UTIL', 'REFORESTA./SITE PREP', 'HORSE FARM',\n",
       "       'ENVIRONMENTL CLEANUP', 'CEMETERIES', 'RECYCLING',\n",
       "       'ENRGY RELATED PIPELN', 'LOADING&HANDLNG WOOD', 'FORESTRY ROADS',\n",
       "       'EARTHMOVING NONRESID', 'NOT SPECIFIED', 'WOOD HANDLING YARDS',\n",
       "       'MTL HDG-CHEM PLANT', 'EARTHMOVING RESIDEN.', 'DEMOLITION',\n",
       "       'MATERIAL HANDLING', 'BRIDGES & STRUCTURES', 'SCRAP HANDLING',\n",
       "       'METALLIC MINING', 'MTL HDLG-PORT/STEVDR', 'FORESTRY SERVICES',\n",
       "       'MTL HDG-STEEL MILL', 'EXCAVATING', 'MTL HDL-SAND/GR/STON',\n",
       "       'UNKNOWN END USE =30', '12/13/2018 0:00:00', 'N', 'Y'],\n",
       "      dtype=object)"
      ]
     },
     "execution_count": 30,
     "metadata": {},
     "output_type": "execute_result"
    }
   ],
   "source": [
    "R23_df[\"END_USE_OF_PROD_NM\"].unique()"
   ]
  },
  {
   "cell_type": "code",
   "execution_count": 33,
   "metadata": {},
   "outputs": [
    {
     "data": {
      "text/plain": [
       "count    91424.000000\n",
       "mean        13.555564\n",
       "std         15.445818\n",
       "min          0.012266\n",
       "25%          4.050114\n",
       "50%          6.157350\n",
       "75%         16.761791\n",
       "max         85.416667\n",
       "Name: L_MEAN, dtype: float64"
      ]
     },
     "execution_count": 33,
     "metadata": {},
     "output_type": "execute_result"
    }
   ],
   "source": [
    "R23_df[\"L_MEAN\"].describe()"
   ]
  },
  {
   "cell_type": "code",
   "execution_count": 51,
   "metadata": {},
   "outputs": [
    {
     "data": {
      "text/html": [
       "<div>\n",
       "<style scoped>\n",
       "    .dataframe tbody tr th:only-of-type {\n",
       "        vertical-align: middle;\n",
       "    }\n",
       "\n",
       "    .dataframe tbody tr th {\n",
       "        vertical-align: top;\n",
       "    }\n",
       "\n",
       "    .dataframe thead th {\n",
       "        text-align: right;\n",
       "    }\n",
       "</style>\n",
       "<table border=\"1\" class=\"dataframe\">\n",
       "  <thead>\n",
       "    <tr style=\"text-align: right;\">\n",
       "      <th></th>\n",
       "      <th>GEOID</th>\n",
       "      <th>COUNT</th>\n",
       "      <th>INVOICE_PRICE</th>\n",
       "      <th>list_price</th>\n",
       "    </tr>\n",
       "  </thead>\n",
       "  <tbody>\n",
       "    <tr>\n",
       "      <th>0</th>\n",
       "      <td>5.401797e+11</td>\n",
       "      <td>86611.0</td>\n",
       "      <td>18855.5</td>\n",
       "      <td>24487.597403</td>\n",
       "    </tr>\n",
       "    <tr>\n",
       "      <th>1</th>\n",
       "      <td>3.600996e+11</td>\n",
       "      <td>131916.0</td>\n",
       "      <td>13076.8</td>\n",
       "      <td>16982.857143</td>\n",
       "    </tr>\n",
       "    <tr>\n",
       "      <th>2</th>\n",
       "      <td>5.502501e+11</td>\n",
       "      <td>60660.0</td>\n",
       "      <td>11043.2</td>\n",
       "      <td>14341.818182</td>\n",
       "    </tr>\n",
       "    <tr>\n",
       "      <th>3</th>\n",
       "      <td>6.029003e+10</td>\n",
       "      <td>858.0</td>\n",
       "      <td>39721.2</td>\n",
       "      <td>51586.000000</td>\n",
       "    </tr>\n",
       "    <tr>\n",
       "      <th>4</th>\n",
       "      <td>2.915948e+11</td>\n",
       "      <td>261414.0</td>\n",
       "      <td>130890</td>\n",
       "      <td>169987.000000</td>\n",
       "    </tr>\n",
       "  </tbody>\n",
       "</table>\n",
       "</div>"
      ],
      "text/plain": [
       "          GEOID     COUNT INVOICE_PRICE     list_price\n",
       "0  5.401797e+11   86611.0       18855.5   24487.597403\n",
       "1  3.600996e+11  131916.0       13076.8   16982.857143\n",
       "2  5.502501e+11   60660.0       11043.2   14341.818182\n",
       "3  6.029003e+10     858.0       39721.2   51586.000000\n",
       "4  2.915948e+11  261414.0        130890  169987.000000"
      ]
     },
     "execution_count": 51,
     "metadata": {},
     "output_type": "execute_result"
    }
   ],
   "source": [
    "small_df = R23_df[[\"GEOID\",\"COUNT\",'INVOICE_PRICE','list_price']]\n",
    "small_df.head()"
   ]
  },
  {
   "cell_type": "code",
   "execution_count": 66,
   "metadata": {},
   "outputs": [
    {
     "ename": "TypeError",
     "evalue": "unsupported operand type(s) for +: 'int' and 'str'",
     "output_type": "error",
     "traceback": [
      "\u001b[1;31m---------------------------------------------------------------------------\u001b[0m",
      "\u001b[1;31mDataError\u001b[0m                                 Traceback (most recent call last)",
      "\u001b[1;32mC:\\ProgramData\\Anaconda3\\lib\\site-packages\\pandas\\core\\groupby\\groupby.py\u001b[0m in \u001b[0;36mf\u001b[1;34m(self, **kwargs)\u001b[0m\n\u001b[0;32m   1421\u001b[0m                     return self._cython_agg_general(\n\u001b[1;32m-> 1422\u001b[1;33m                         alias, alt=npfunc, **kwargs)\n\u001b[0m\u001b[0;32m   1423\u001b[0m                 \u001b[1;32mexcept\u001b[0m \u001b[0mAssertionError\u001b[0m \u001b[1;32mas\u001b[0m \u001b[0me\u001b[0m\u001b[1;33m:\u001b[0m\u001b[1;33m\u001b[0m\u001b[0m\n",
      "\u001b[1;32mC:\\ProgramData\\Anaconda3\\lib\\site-packages\\pandas\\core\\groupby\\groupby.py\u001b[0m in \u001b[0;36m_cython_agg_general\u001b[1;34m(self, how, alt, numeric_only, min_count)\u001b[0m\n\u001b[0;32m   1055\u001b[0m         \u001b[1;32mif\u001b[0m \u001b[0mlen\u001b[0m\u001b[1;33m(\u001b[0m\u001b[0moutput\u001b[0m\u001b[1;33m)\u001b[0m \u001b[1;33m==\u001b[0m \u001b[1;36m0\u001b[0m\u001b[1;33m:\u001b[0m\u001b[1;33m\u001b[0m\u001b[0m\n\u001b[1;32m-> 1056\u001b[1;33m             \u001b[1;32mraise\u001b[0m \u001b[0mDataError\u001b[0m\u001b[1;33m(\u001b[0m\u001b[1;34m'No numeric types to aggregate'\u001b[0m\u001b[1;33m)\u001b[0m\u001b[1;33m\u001b[0m\u001b[0m\n\u001b[0m\u001b[0;32m   1057\u001b[0m \u001b[1;33m\u001b[0m\u001b[0m\n",
      "\u001b[1;31mDataError\u001b[0m: No numeric types to aggregate",
      "\nDuring handling of the above exception, another exception occurred:\n",
      "\u001b[1;31mTypeError\u001b[0m                                 Traceback (most recent call last)",
      "\u001b[1;32mC:\\ProgramData\\Anaconda3\\lib\\site-packages\\pandas\\core\\groupby\\groupby.py\u001b[0m in \u001b[0;36maggregate\u001b[1;34m(self, func_or_funcs, *args, **kwargs)\u001b[0m\n\u001b[0;32m   3494\u001b[0m             \u001b[1;32mtry\u001b[0m\u001b[1;33m:\u001b[0m\u001b[1;33m\u001b[0m\u001b[0m\n\u001b[1;32m-> 3495\u001b[1;33m                 \u001b[1;32mreturn\u001b[0m \u001b[0mself\u001b[0m\u001b[1;33m.\u001b[0m\u001b[0m_python_agg_general\u001b[0m\u001b[1;33m(\u001b[0m\u001b[0mfunc_or_funcs\u001b[0m\u001b[1;33m,\u001b[0m \u001b[1;33m*\u001b[0m\u001b[0margs\u001b[0m\u001b[1;33m,\u001b[0m \u001b[1;33m**\u001b[0m\u001b[0mkwargs\u001b[0m\u001b[1;33m)\u001b[0m\u001b[1;33m\u001b[0m\u001b[0m\n\u001b[0m\u001b[0;32m   3496\u001b[0m             \u001b[1;32mexcept\u001b[0m \u001b[0mException\u001b[0m\u001b[1;33m:\u001b[0m\u001b[1;33m\u001b[0m\u001b[0m\n",
      "\u001b[1;32mC:\\ProgramData\\Anaconda3\\lib\\site-packages\\pandas\\core\\groupby\\groupby.py\u001b[0m in \u001b[0;36m_python_agg_general\u001b[1;34m(self, func, *args, **kwargs)\u001b[0m\n\u001b[0;32m   1073\u001b[0m         \u001b[1;32mif\u001b[0m \u001b[0mlen\u001b[0m\u001b[1;33m(\u001b[0m\u001b[0moutput\u001b[0m\u001b[1;33m)\u001b[0m \u001b[1;33m==\u001b[0m \u001b[1;36m0\u001b[0m\u001b[1;33m:\u001b[0m\u001b[1;33m\u001b[0m\u001b[0m\n\u001b[1;32m-> 1074\u001b[1;33m             \u001b[1;32mreturn\u001b[0m \u001b[0mself\u001b[0m\u001b[1;33m.\u001b[0m\u001b[0m_python_apply_general\u001b[0m\u001b[1;33m(\u001b[0m\u001b[0mf\u001b[0m\u001b[1;33m)\u001b[0m\u001b[1;33m\u001b[0m\u001b[0m\n\u001b[0m\u001b[0;32m   1075\u001b[0m \u001b[1;33m\u001b[0m\u001b[0m\n",
      "\u001b[1;32mC:\\ProgramData\\Anaconda3\\lib\\site-packages\\pandas\\core\\groupby\\groupby.py\u001b[0m in \u001b[0;36m_python_apply_general\u001b[1;34m(self, f)\u001b[0m\n\u001b[0;32m    935\u001b[0m         keys, values, mutated = self.grouper.apply(f, self._selected_obj,\n\u001b[1;32m--> 936\u001b[1;33m                                                    self.axis)\n\u001b[0m\u001b[0;32m    937\u001b[0m \u001b[1;33m\u001b[0m\u001b[0m\n",
      "\u001b[1;32mC:\\ProgramData\\Anaconda3\\lib\\site-packages\\pandas\\core\\groupby\\groupby.py\u001b[0m in \u001b[0;36mapply\u001b[1;34m(self, f, data, axis)\u001b[0m\n\u001b[0;32m   2272\u001b[0m             \u001b[0mgroup_axes\u001b[0m \u001b[1;33m=\u001b[0m \u001b[0m_get_axes\u001b[0m\u001b[1;33m(\u001b[0m\u001b[0mgroup\u001b[0m\u001b[1;33m)\u001b[0m\u001b[1;33m\u001b[0m\u001b[0m\n\u001b[1;32m-> 2273\u001b[1;33m             \u001b[0mres\u001b[0m \u001b[1;33m=\u001b[0m \u001b[0mf\u001b[0m\u001b[1;33m(\u001b[0m\u001b[0mgroup\u001b[0m\u001b[1;33m)\u001b[0m\u001b[1;33m\u001b[0m\u001b[0m\n\u001b[0m\u001b[0;32m   2274\u001b[0m             \u001b[1;32mif\u001b[0m \u001b[1;32mnot\u001b[0m \u001b[0m_is_indexed_like\u001b[0m\u001b[1;33m(\u001b[0m\u001b[0mres\u001b[0m\u001b[1;33m,\u001b[0m \u001b[0mgroup_axes\u001b[0m\u001b[1;33m)\u001b[0m\u001b[1;33m:\u001b[0m\u001b[1;33m\u001b[0m\u001b[0m\n",
      "\u001b[1;32mC:\\ProgramData\\Anaconda3\\lib\\site-packages\\pandas\\core\\groupby\\groupby.py\u001b[0m in \u001b[0;36m<lambda>\u001b[1;34m(x)\u001b[0m\n\u001b[0;32m   1061\u001b[0m         \u001b[0mfunc\u001b[0m \u001b[1;33m=\u001b[0m \u001b[0mself\u001b[0m\u001b[1;33m.\u001b[0m\u001b[0m_is_builtin_func\u001b[0m\u001b[1;33m(\u001b[0m\u001b[0mfunc\u001b[0m\u001b[1;33m)\u001b[0m\u001b[1;33m\u001b[0m\u001b[0m\n\u001b[1;32m-> 1062\u001b[1;33m         \u001b[0mf\u001b[0m \u001b[1;33m=\u001b[0m \u001b[1;32mlambda\u001b[0m \u001b[0mx\u001b[0m\u001b[1;33m:\u001b[0m \u001b[0mfunc\u001b[0m\u001b[1;33m(\u001b[0m\u001b[0mx\u001b[0m\u001b[1;33m,\u001b[0m \u001b[1;33m*\u001b[0m\u001b[0margs\u001b[0m\u001b[1;33m,\u001b[0m \u001b[1;33m**\u001b[0m\u001b[0mkwargs\u001b[0m\u001b[1;33m)\u001b[0m\u001b[1;33m\u001b[0m\u001b[0m\n\u001b[0m\u001b[0;32m   1063\u001b[0m \u001b[1;33m\u001b[0m\u001b[0m\n",
      "\u001b[1;32mC:\\ProgramData\\Anaconda3\\lib\\site-packages\\pandas\\core\\groupby\\groupby.py\u001b[0m in \u001b[0;36m<lambda>\u001b[1;34m(x)\u001b[0m\n\u001b[0;32m   1426\u001b[0m                     result = self.aggregate(\n\u001b[1;32m-> 1427\u001b[1;33m                         lambda x: npfunc(x, axis=self.axis))\n\u001b[0m\u001b[0;32m   1428\u001b[0m                     \u001b[1;32mif\u001b[0m \u001b[0m_convert\u001b[0m\u001b[1;33m:\u001b[0m\u001b[1;33m\u001b[0m\u001b[0m\n",
      "\u001b[1;32mC:\\ProgramData\\Anaconda3\\lib\\site-packages\\numpy\\core\\fromnumeric.py\u001b[0m in \u001b[0;36msum\u001b[1;34m(a, axis, dtype, out, keepdims)\u001b[0m\n\u001b[0;32m   1879\u001b[0m         \u001b[1;32melse\u001b[0m\u001b[1;33m:\u001b[0m\u001b[1;33m\u001b[0m\u001b[0m\n\u001b[1;32m-> 1880\u001b[1;33m             \u001b[1;32mreturn\u001b[0m \u001b[0msum\u001b[0m\u001b[1;33m(\u001b[0m\u001b[0maxis\u001b[0m\u001b[1;33m=\u001b[0m\u001b[0maxis\u001b[0m\u001b[1;33m,\u001b[0m \u001b[0mdtype\u001b[0m\u001b[1;33m=\u001b[0m\u001b[0mdtype\u001b[0m\u001b[1;33m,\u001b[0m \u001b[0mout\u001b[0m\u001b[1;33m=\u001b[0m\u001b[0mout\u001b[0m\u001b[1;33m,\u001b[0m \u001b[1;33m**\u001b[0m\u001b[0mkwargs\u001b[0m\u001b[1;33m)\u001b[0m\u001b[1;33m\u001b[0m\u001b[0m\n\u001b[0m\u001b[0;32m   1881\u001b[0m     return _methods._sum(a, axis=axis, dtype=dtype,\n",
      "\u001b[1;32mC:\\ProgramData\\Anaconda3\\lib\\site-packages\\pandas\\core\\generic.py\u001b[0m in \u001b[0;36mstat_func\u001b[1;34m(self, axis, skipna, level, numeric_only, min_count, **kwargs)\u001b[0m\n\u001b[0;32m   9568\u001b[0m         return self._reduce(f, name, axis=axis, skipna=skipna,\n\u001b[1;32m-> 9569\u001b[1;33m                             numeric_only=numeric_only, min_count=min_count)\n\u001b[0m\u001b[0;32m   9570\u001b[0m \u001b[1;33m\u001b[0m\u001b[0m\n",
      "\u001b[1;32mC:\\ProgramData\\Anaconda3\\lib\\site-packages\\pandas\\core\\series.py\u001b[0m in \u001b[0;36m_reduce\u001b[1;34m(self, op, name, axis, skipna, numeric_only, filter_type, **kwds)\u001b[0m\n\u001b[0;32m   3217\u001b[0m             \u001b[1;32mwith\u001b[0m \u001b[0mnp\u001b[0m\u001b[1;33m.\u001b[0m\u001b[0merrstate\u001b[0m\u001b[1;33m(\u001b[0m\u001b[0mall\u001b[0m\u001b[1;33m=\u001b[0m\u001b[1;34m'ignore'\u001b[0m\u001b[1;33m)\u001b[0m\u001b[1;33m:\u001b[0m\u001b[1;33m\u001b[0m\u001b[0m\n\u001b[1;32m-> 3218\u001b[1;33m                 \u001b[1;32mreturn\u001b[0m \u001b[0mop\u001b[0m\u001b[1;33m(\u001b[0m\u001b[0mdelegate\u001b[0m\u001b[1;33m,\u001b[0m \u001b[0mskipna\u001b[0m\u001b[1;33m=\u001b[0m\u001b[0mskipna\u001b[0m\u001b[1;33m,\u001b[0m \u001b[1;33m**\u001b[0m\u001b[0mkwds\u001b[0m\u001b[1;33m)\u001b[0m\u001b[1;33m\u001b[0m\u001b[0m\n\u001b[0m\u001b[0;32m   3219\u001b[0m \u001b[1;33m\u001b[0m\u001b[0m\n",
      "\u001b[1;32mC:\\ProgramData\\Anaconda3\\lib\\site-packages\\pandas\\core\\nanops.py\u001b[0m in \u001b[0;36m_f\u001b[1;34m(*args, **kwargs)\u001b[0m\n\u001b[0;32m     76\u001b[0m                 \u001b[1;32mwith\u001b[0m \u001b[0mnp\u001b[0m\u001b[1;33m.\u001b[0m\u001b[0merrstate\u001b[0m\u001b[1;33m(\u001b[0m\u001b[0minvalid\u001b[0m\u001b[1;33m=\u001b[0m\u001b[1;34m'ignore'\u001b[0m\u001b[1;33m)\u001b[0m\u001b[1;33m:\u001b[0m\u001b[1;33m\u001b[0m\u001b[0m\n\u001b[1;32m---> 77\u001b[1;33m                     \u001b[1;32mreturn\u001b[0m \u001b[0mf\u001b[0m\u001b[1;33m(\u001b[0m\u001b[1;33m*\u001b[0m\u001b[0margs\u001b[0m\u001b[1;33m,\u001b[0m \u001b[1;33m**\u001b[0m\u001b[0mkwargs\u001b[0m\u001b[1;33m)\u001b[0m\u001b[1;33m\u001b[0m\u001b[0m\n\u001b[0m\u001b[0;32m     78\u001b[0m             \u001b[1;32mexcept\u001b[0m \u001b[0mValueError\u001b[0m \u001b[1;32mas\u001b[0m \u001b[0me\u001b[0m\u001b[1;33m:\u001b[0m\u001b[1;33m\u001b[0m\u001b[0m\n",
      "\u001b[1;32mC:\\ProgramData\\Anaconda3\\lib\\site-packages\\pandas\\core\\nanops.py\u001b[0m in \u001b[0;36mnansum\u001b[1;34m(values, axis, skipna, min_count)\u001b[0m\n\u001b[0;32m    335\u001b[0m         \u001b[0mdtype_sum\u001b[0m \u001b[1;33m=\u001b[0m \u001b[0mnp\u001b[0m\u001b[1;33m.\u001b[0m\u001b[0mfloat64\u001b[0m\u001b[1;33m\u001b[0m\u001b[0m\n\u001b[1;32m--> 336\u001b[1;33m     \u001b[0mthe_sum\u001b[0m \u001b[1;33m=\u001b[0m \u001b[0mvalues\u001b[0m\u001b[1;33m.\u001b[0m\u001b[0msum\u001b[0m\u001b[1;33m(\u001b[0m\u001b[0maxis\u001b[0m\u001b[1;33m,\u001b[0m \u001b[0mdtype\u001b[0m\u001b[1;33m=\u001b[0m\u001b[0mdtype_sum\u001b[0m\u001b[1;33m)\u001b[0m\u001b[1;33m\u001b[0m\u001b[0m\n\u001b[0m\u001b[0;32m    337\u001b[0m     \u001b[0mthe_sum\u001b[0m \u001b[1;33m=\u001b[0m \u001b[0m_maybe_null_out\u001b[0m\u001b[1;33m(\u001b[0m\u001b[0mthe_sum\u001b[0m\u001b[1;33m,\u001b[0m \u001b[0maxis\u001b[0m\u001b[1;33m,\u001b[0m \u001b[0mmask\u001b[0m\u001b[1;33m,\u001b[0m \u001b[0mmin_count\u001b[0m\u001b[1;33m=\u001b[0m\u001b[0mmin_count\u001b[0m\u001b[1;33m)\u001b[0m\u001b[1;33m\u001b[0m\u001b[0m\n",
      "\u001b[1;32mC:\\ProgramData\\Anaconda3\\lib\\site-packages\\numpy\\core\\_methods.py\u001b[0m in \u001b[0;36m_sum\u001b[1;34m(a, axis, dtype, out, keepdims)\u001b[0m\n\u001b[0;32m     31\u001b[0m \u001b[1;32mdef\u001b[0m \u001b[0m_sum\u001b[0m\u001b[1;33m(\u001b[0m\u001b[0ma\u001b[0m\u001b[1;33m,\u001b[0m \u001b[0maxis\u001b[0m\u001b[1;33m=\u001b[0m\u001b[1;32mNone\u001b[0m\u001b[1;33m,\u001b[0m \u001b[0mdtype\u001b[0m\u001b[1;33m=\u001b[0m\u001b[1;32mNone\u001b[0m\u001b[1;33m,\u001b[0m \u001b[0mout\u001b[0m\u001b[1;33m=\u001b[0m\u001b[1;32mNone\u001b[0m\u001b[1;33m,\u001b[0m \u001b[0mkeepdims\u001b[0m\u001b[1;33m=\u001b[0m\u001b[1;32mFalse\u001b[0m\u001b[1;33m)\u001b[0m\u001b[1;33m:\u001b[0m\u001b[1;33m\u001b[0m\u001b[0m\n\u001b[1;32m---> 32\u001b[1;33m     \u001b[1;32mreturn\u001b[0m \u001b[0mumr_sum\u001b[0m\u001b[1;33m(\u001b[0m\u001b[0ma\u001b[0m\u001b[1;33m,\u001b[0m \u001b[0maxis\u001b[0m\u001b[1;33m,\u001b[0m \u001b[0mdtype\u001b[0m\u001b[1;33m,\u001b[0m \u001b[0mout\u001b[0m\u001b[1;33m,\u001b[0m \u001b[0mkeepdims\u001b[0m\u001b[1;33m)\u001b[0m\u001b[1;33m\u001b[0m\u001b[0m\n\u001b[0m\u001b[0;32m     33\u001b[0m \u001b[1;33m\u001b[0m\u001b[0m\n",
      "\u001b[1;31mTypeError\u001b[0m: unsupported operand type(s) for +: 'int' and 'str'",
      "\nDuring handling of the above exception, another exception occurred:\n",
      "\u001b[1;31mTypeError\u001b[0m                                 Traceback (most recent call last)",
      "\u001b[1;32m<ipython-input-66-0ecc5c37d9fc>\u001b[0m in \u001b[0;36m<module>\u001b[1;34m()\u001b[0m\n\u001b[0;32m      1\u001b[0m \u001b[0msmall_df\u001b[0m\u001b[1;33m.\u001b[0m\u001b[0mgroupby\u001b[0m\u001b[1;33m(\u001b[0m\u001b[1;34m\"GEOID\"\u001b[0m\u001b[1;33m)\u001b[0m\u001b[1;33m[\u001b[0m\u001b[1;34m\"list_price\"\u001b[0m\u001b[1;33m]\u001b[0m\u001b[1;33m.\u001b[0m\u001b[0msum\u001b[0m\u001b[1;33m(\u001b[0m\u001b[1;33m)\u001b[0m\u001b[1;33m\u001b[0m\u001b[0m\n\u001b[1;32m----> 2\u001b[1;33m \u001b[0msmall_df\u001b[0m\u001b[1;33m.\u001b[0m\u001b[0mgroupby\u001b[0m\u001b[1;33m(\u001b[0m\u001b[1;34m\"GEOID\"\u001b[0m\u001b[1;33m)\u001b[0m\u001b[1;33m[\u001b[0m\u001b[1;34m\"INVOICE_PRICE\"\u001b[0m\u001b[1;33m]\u001b[0m\u001b[1;33m.\u001b[0m\u001b[0msum\u001b[0m\u001b[1;33m(\u001b[0m\u001b[1;33m)\u001b[0m\u001b[1;33m\u001b[0m\u001b[0m\n\u001b[0m",
      "\u001b[1;32mC:\\ProgramData\\Anaconda3\\lib\\site-packages\\pandas\\core\\groupby\\groupby.py\u001b[0m in \u001b[0;36mf\u001b[1;34m(self, **kwargs)\u001b[0m\n\u001b[0;32m   1425\u001b[0m                 \u001b[1;32mexcept\u001b[0m \u001b[0mException\u001b[0m\u001b[1;33m:\u001b[0m\u001b[1;33m\u001b[0m\u001b[0m\n\u001b[0;32m   1426\u001b[0m                     result = self.aggregate(\n\u001b[1;32m-> 1427\u001b[1;33m                         lambda x: npfunc(x, axis=self.axis))\n\u001b[0m\u001b[0;32m   1428\u001b[0m                     \u001b[1;32mif\u001b[0m \u001b[0m_convert\u001b[0m\u001b[1;33m:\u001b[0m\u001b[1;33m\u001b[0m\u001b[0m\n\u001b[0;32m   1429\u001b[0m                         \u001b[0mresult\u001b[0m \u001b[1;33m=\u001b[0m \u001b[0mresult\u001b[0m\u001b[1;33m.\u001b[0m\u001b[0m_convert\u001b[0m\u001b[1;33m(\u001b[0m\u001b[0mdatetime\u001b[0m\u001b[1;33m=\u001b[0m\u001b[1;32mTrue\u001b[0m\u001b[1;33m)\u001b[0m\u001b[1;33m\u001b[0m\u001b[0m\n",
      "\u001b[1;32mC:\\ProgramData\\Anaconda3\\lib\\site-packages\\pandas\\core\\groupby\\groupby.py\u001b[0m in \u001b[0;36maggregate\u001b[1;34m(self, func_or_funcs, *args, **kwargs)\u001b[0m\n\u001b[0;32m   3495\u001b[0m                 \u001b[1;32mreturn\u001b[0m \u001b[0mself\u001b[0m\u001b[1;33m.\u001b[0m\u001b[0m_python_agg_general\u001b[0m\u001b[1;33m(\u001b[0m\u001b[0mfunc_or_funcs\u001b[0m\u001b[1;33m,\u001b[0m \u001b[1;33m*\u001b[0m\u001b[0margs\u001b[0m\u001b[1;33m,\u001b[0m \u001b[1;33m**\u001b[0m\u001b[0mkwargs\u001b[0m\u001b[1;33m)\u001b[0m\u001b[1;33m\u001b[0m\u001b[0m\n\u001b[0;32m   3496\u001b[0m             \u001b[1;32mexcept\u001b[0m \u001b[0mException\u001b[0m\u001b[1;33m:\u001b[0m\u001b[1;33m\u001b[0m\u001b[0m\n\u001b[1;32m-> 3497\u001b[1;33m                 \u001b[0mresult\u001b[0m \u001b[1;33m=\u001b[0m \u001b[0mself\u001b[0m\u001b[1;33m.\u001b[0m\u001b[0m_aggregate_named\u001b[0m\u001b[1;33m(\u001b[0m\u001b[0mfunc_or_funcs\u001b[0m\u001b[1;33m,\u001b[0m \u001b[1;33m*\u001b[0m\u001b[0margs\u001b[0m\u001b[1;33m,\u001b[0m \u001b[1;33m**\u001b[0m\u001b[0mkwargs\u001b[0m\u001b[1;33m)\u001b[0m\u001b[1;33m\u001b[0m\u001b[0m\n\u001b[0m\u001b[0;32m   3498\u001b[0m \u001b[1;33m\u001b[0m\u001b[0m\n\u001b[0;32m   3499\u001b[0m             \u001b[0mindex\u001b[0m \u001b[1;33m=\u001b[0m \u001b[0mIndex\u001b[0m\u001b[1;33m(\u001b[0m\u001b[0msorted\u001b[0m\u001b[1;33m(\u001b[0m\u001b[0mresult\u001b[0m\u001b[1;33m)\u001b[0m\u001b[1;33m,\u001b[0m \u001b[0mname\u001b[0m\u001b[1;33m=\u001b[0m\u001b[0mself\u001b[0m\u001b[1;33m.\u001b[0m\u001b[0mgrouper\u001b[0m\u001b[1;33m.\u001b[0m\u001b[0mnames\u001b[0m\u001b[1;33m[\u001b[0m\u001b[1;36m0\u001b[0m\u001b[1;33m]\u001b[0m\u001b[1;33m)\u001b[0m\u001b[1;33m\u001b[0m\u001b[0m\n",
      "\u001b[1;32mC:\\ProgramData\\Anaconda3\\lib\\site-packages\\pandas\\core\\groupby\\groupby.py\u001b[0m in \u001b[0;36m_aggregate_named\u001b[1;34m(self, func, *args, **kwargs)\u001b[0m\n\u001b[0;32m   3625\u001b[0m         \u001b[1;32mfor\u001b[0m \u001b[0mname\u001b[0m\u001b[1;33m,\u001b[0m \u001b[0mgroup\u001b[0m \u001b[1;32min\u001b[0m \u001b[0mself\u001b[0m\u001b[1;33m:\u001b[0m\u001b[1;33m\u001b[0m\u001b[0m\n\u001b[0;32m   3626\u001b[0m             \u001b[0mgroup\u001b[0m\u001b[1;33m.\u001b[0m\u001b[0mname\u001b[0m \u001b[1;33m=\u001b[0m \u001b[0mname\u001b[0m\u001b[1;33m\u001b[0m\u001b[0m\n\u001b[1;32m-> 3627\u001b[1;33m             \u001b[0moutput\u001b[0m \u001b[1;33m=\u001b[0m \u001b[0mfunc\u001b[0m\u001b[1;33m(\u001b[0m\u001b[0mgroup\u001b[0m\u001b[1;33m,\u001b[0m \u001b[1;33m*\u001b[0m\u001b[0margs\u001b[0m\u001b[1;33m,\u001b[0m \u001b[1;33m**\u001b[0m\u001b[0mkwargs\u001b[0m\u001b[1;33m)\u001b[0m\u001b[1;33m\u001b[0m\u001b[0m\n\u001b[0m\u001b[0;32m   3628\u001b[0m             \u001b[1;32mif\u001b[0m \u001b[0misinstance\u001b[0m\u001b[1;33m(\u001b[0m\u001b[0moutput\u001b[0m\u001b[1;33m,\u001b[0m \u001b[1;33m(\u001b[0m\u001b[0mSeries\u001b[0m\u001b[1;33m,\u001b[0m \u001b[0mIndex\u001b[0m\u001b[1;33m,\u001b[0m \u001b[0mnp\u001b[0m\u001b[1;33m.\u001b[0m\u001b[0mndarray\u001b[0m\u001b[1;33m)\u001b[0m\u001b[1;33m)\u001b[0m\u001b[1;33m:\u001b[0m\u001b[1;33m\u001b[0m\u001b[0m\n\u001b[0;32m   3629\u001b[0m                 \u001b[1;32mraise\u001b[0m \u001b[0mException\u001b[0m\u001b[1;33m(\u001b[0m\u001b[1;34m'Must produce aggregated value'\u001b[0m\u001b[1;33m)\u001b[0m\u001b[1;33m\u001b[0m\u001b[0m\n",
      "\u001b[1;32mC:\\ProgramData\\Anaconda3\\lib\\site-packages\\pandas\\core\\groupby\\groupby.py\u001b[0m in \u001b[0;36m<lambda>\u001b[1;34m(x)\u001b[0m\n\u001b[0;32m   1425\u001b[0m                 \u001b[1;32mexcept\u001b[0m \u001b[0mException\u001b[0m\u001b[1;33m:\u001b[0m\u001b[1;33m\u001b[0m\u001b[0m\n\u001b[0;32m   1426\u001b[0m                     result = self.aggregate(\n\u001b[1;32m-> 1427\u001b[1;33m                         lambda x: npfunc(x, axis=self.axis))\n\u001b[0m\u001b[0;32m   1428\u001b[0m                     \u001b[1;32mif\u001b[0m \u001b[0m_convert\u001b[0m\u001b[1;33m:\u001b[0m\u001b[1;33m\u001b[0m\u001b[0m\n\u001b[0;32m   1429\u001b[0m                         \u001b[0mresult\u001b[0m \u001b[1;33m=\u001b[0m \u001b[0mresult\u001b[0m\u001b[1;33m.\u001b[0m\u001b[0m_convert\u001b[0m\u001b[1;33m(\u001b[0m\u001b[0mdatetime\u001b[0m\u001b[1;33m=\u001b[0m\u001b[1;32mTrue\u001b[0m\u001b[1;33m)\u001b[0m\u001b[1;33m\u001b[0m\u001b[0m\n",
      "\u001b[1;32mC:\\ProgramData\\Anaconda3\\lib\\site-packages\\numpy\\core\\fromnumeric.py\u001b[0m in \u001b[0;36msum\u001b[1;34m(a, axis, dtype, out, keepdims)\u001b[0m\n\u001b[0;32m   1878\u001b[0m             \u001b[1;32mpass\u001b[0m\u001b[1;33m\u001b[0m\u001b[0m\n\u001b[0;32m   1879\u001b[0m         \u001b[1;32melse\u001b[0m\u001b[1;33m:\u001b[0m\u001b[1;33m\u001b[0m\u001b[0m\n\u001b[1;32m-> 1880\u001b[1;33m             \u001b[1;32mreturn\u001b[0m \u001b[0msum\u001b[0m\u001b[1;33m(\u001b[0m\u001b[0maxis\u001b[0m\u001b[1;33m=\u001b[0m\u001b[0maxis\u001b[0m\u001b[1;33m,\u001b[0m \u001b[0mdtype\u001b[0m\u001b[1;33m=\u001b[0m\u001b[0mdtype\u001b[0m\u001b[1;33m,\u001b[0m \u001b[0mout\u001b[0m\u001b[1;33m=\u001b[0m\u001b[0mout\u001b[0m\u001b[1;33m,\u001b[0m \u001b[1;33m**\u001b[0m\u001b[0mkwargs\u001b[0m\u001b[1;33m)\u001b[0m\u001b[1;33m\u001b[0m\u001b[0m\n\u001b[0m\u001b[0;32m   1881\u001b[0m     return _methods._sum(a, axis=axis, dtype=dtype,\n\u001b[0;32m   1882\u001b[0m                          out=out, **kwargs)\n",
      "\u001b[1;32mC:\\ProgramData\\Anaconda3\\lib\\site-packages\\pandas\\core\\generic.py\u001b[0m in \u001b[0;36mstat_func\u001b[1;34m(self, axis, skipna, level, numeric_only, min_count, **kwargs)\u001b[0m\n\u001b[0;32m   9567\u001b[0m                                       skipna=skipna, min_count=min_count)\n\u001b[0;32m   9568\u001b[0m         return self._reduce(f, name, axis=axis, skipna=skipna,\n\u001b[1;32m-> 9569\u001b[1;33m                             numeric_only=numeric_only, min_count=min_count)\n\u001b[0m\u001b[0;32m   9570\u001b[0m \u001b[1;33m\u001b[0m\u001b[0m\n\u001b[0;32m   9571\u001b[0m     \u001b[1;32mreturn\u001b[0m \u001b[0mset_function_name\u001b[0m\u001b[1;33m(\u001b[0m\u001b[0mstat_func\u001b[0m\u001b[1;33m,\u001b[0m \u001b[0mname\u001b[0m\u001b[1;33m,\u001b[0m \u001b[0mcls\u001b[0m\u001b[1;33m)\u001b[0m\u001b[1;33m\u001b[0m\u001b[0m\n",
      "\u001b[1;32mC:\\ProgramData\\Anaconda3\\lib\\site-packages\\pandas\\core\\series.py\u001b[0m in \u001b[0;36m_reduce\u001b[1;34m(self, op, name, axis, skipna, numeric_only, filter_type, **kwds)\u001b[0m\n\u001b[0;32m   3216\u001b[0m                                           'numeric_only.'.format(name))\n\u001b[0;32m   3217\u001b[0m             \u001b[1;32mwith\u001b[0m \u001b[0mnp\u001b[0m\u001b[1;33m.\u001b[0m\u001b[0merrstate\u001b[0m\u001b[1;33m(\u001b[0m\u001b[0mall\u001b[0m\u001b[1;33m=\u001b[0m\u001b[1;34m'ignore'\u001b[0m\u001b[1;33m)\u001b[0m\u001b[1;33m:\u001b[0m\u001b[1;33m\u001b[0m\u001b[0m\n\u001b[1;32m-> 3218\u001b[1;33m                 \u001b[1;32mreturn\u001b[0m \u001b[0mop\u001b[0m\u001b[1;33m(\u001b[0m\u001b[0mdelegate\u001b[0m\u001b[1;33m,\u001b[0m \u001b[0mskipna\u001b[0m\u001b[1;33m=\u001b[0m\u001b[0mskipna\u001b[0m\u001b[1;33m,\u001b[0m \u001b[1;33m**\u001b[0m\u001b[0mkwds\u001b[0m\u001b[1;33m)\u001b[0m\u001b[1;33m\u001b[0m\u001b[0m\n\u001b[0m\u001b[0;32m   3219\u001b[0m \u001b[1;33m\u001b[0m\u001b[0m\n\u001b[0;32m   3220\u001b[0m         return delegate._reduce(op=op, name=name, axis=axis, skipna=skipna,\n",
      "\u001b[1;32mC:\\ProgramData\\Anaconda3\\lib\\site-packages\\pandas\\core\\nanops.py\u001b[0m in \u001b[0;36m_f\u001b[1;34m(*args, **kwargs)\u001b[0m\n\u001b[0;32m     75\u001b[0m             \u001b[1;32mtry\u001b[0m\u001b[1;33m:\u001b[0m\u001b[1;33m\u001b[0m\u001b[0m\n\u001b[0;32m     76\u001b[0m                 \u001b[1;32mwith\u001b[0m \u001b[0mnp\u001b[0m\u001b[1;33m.\u001b[0m\u001b[0merrstate\u001b[0m\u001b[1;33m(\u001b[0m\u001b[0minvalid\u001b[0m\u001b[1;33m=\u001b[0m\u001b[1;34m'ignore'\u001b[0m\u001b[1;33m)\u001b[0m\u001b[1;33m:\u001b[0m\u001b[1;33m\u001b[0m\u001b[0m\n\u001b[1;32m---> 77\u001b[1;33m                     \u001b[1;32mreturn\u001b[0m \u001b[0mf\u001b[0m\u001b[1;33m(\u001b[0m\u001b[1;33m*\u001b[0m\u001b[0margs\u001b[0m\u001b[1;33m,\u001b[0m \u001b[1;33m**\u001b[0m\u001b[0mkwargs\u001b[0m\u001b[1;33m)\u001b[0m\u001b[1;33m\u001b[0m\u001b[0m\n\u001b[0m\u001b[0;32m     78\u001b[0m             \u001b[1;32mexcept\u001b[0m \u001b[0mValueError\u001b[0m \u001b[1;32mas\u001b[0m \u001b[0me\u001b[0m\u001b[1;33m:\u001b[0m\u001b[1;33m\u001b[0m\u001b[0m\n\u001b[0;32m     79\u001b[0m                 \u001b[1;31m# we want to transform an object array\u001b[0m\u001b[1;33m\u001b[0m\u001b[1;33m\u001b[0m\u001b[0m\n",
      "\u001b[1;32mC:\\ProgramData\\Anaconda3\\lib\\site-packages\\pandas\\core\\nanops.py\u001b[0m in \u001b[0;36mnansum\u001b[1;34m(values, axis, skipna, min_count)\u001b[0m\n\u001b[0;32m    334\u001b[0m     \u001b[1;32melif\u001b[0m \u001b[0mis_timedelta64_dtype\u001b[0m\u001b[1;33m(\u001b[0m\u001b[0mdtype\u001b[0m\u001b[1;33m)\u001b[0m\u001b[1;33m:\u001b[0m\u001b[1;33m\u001b[0m\u001b[0m\n\u001b[0;32m    335\u001b[0m         \u001b[0mdtype_sum\u001b[0m \u001b[1;33m=\u001b[0m \u001b[0mnp\u001b[0m\u001b[1;33m.\u001b[0m\u001b[0mfloat64\u001b[0m\u001b[1;33m\u001b[0m\u001b[0m\n\u001b[1;32m--> 336\u001b[1;33m     \u001b[0mthe_sum\u001b[0m \u001b[1;33m=\u001b[0m \u001b[0mvalues\u001b[0m\u001b[1;33m.\u001b[0m\u001b[0msum\u001b[0m\u001b[1;33m(\u001b[0m\u001b[0maxis\u001b[0m\u001b[1;33m,\u001b[0m \u001b[0mdtype\u001b[0m\u001b[1;33m=\u001b[0m\u001b[0mdtype_sum\u001b[0m\u001b[1;33m)\u001b[0m\u001b[1;33m\u001b[0m\u001b[0m\n\u001b[0m\u001b[0;32m    337\u001b[0m     \u001b[0mthe_sum\u001b[0m \u001b[1;33m=\u001b[0m \u001b[0m_maybe_null_out\u001b[0m\u001b[1;33m(\u001b[0m\u001b[0mthe_sum\u001b[0m\u001b[1;33m,\u001b[0m \u001b[0maxis\u001b[0m\u001b[1;33m,\u001b[0m \u001b[0mmask\u001b[0m\u001b[1;33m,\u001b[0m \u001b[0mmin_count\u001b[0m\u001b[1;33m=\u001b[0m\u001b[0mmin_count\u001b[0m\u001b[1;33m)\u001b[0m\u001b[1;33m\u001b[0m\u001b[0m\n\u001b[0;32m    338\u001b[0m \u001b[1;33m\u001b[0m\u001b[0m\n",
      "\u001b[1;32mC:\\ProgramData\\Anaconda3\\lib\\site-packages\\numpy\\core\\_methods.py\u001b[0m in \u001b[0;36m_sum\u001b[1;34m(a, axis, dtype, out, keepdims)\u001b[0m\n\u001b[0;32m     30\u001b[0m \u001b[1;33m\u001b[0m\u001b[0m\n\u001b[0;32m     31\u001b[0m \u001b[1;32mdef\u001b[0m \u001b[0m_sum\u001b[0m\u001b[1;33m(\u001b[0m\u001b[0ma\u001b[0m\u001b[1;33m,\u001b[0m \u001b[0maxis\u001b[0m\u001b[1;33m=\u001b[0m\u001b[1;32mNone\u001b[0m\u001b[1;33m,\u001b[0m \u001b[0mdtype\u001b[0m\u001b[1;33m=\u001b[0m\u001b[1;32mNone\u001b[0m\u001b[1;33m,\u001b[0m \u001b[0mout\u001b[0m\u001b[1;33m=\u001b[0m\u001b[1;32mNone\u001b[0m\u001b[1;33m,\u001b[0m \u001b[0mkeepdims\u001b[0m\u001b[1;33m=\u001b[0m\u001b[1;32mFalse\u001b[0m\u001b[1;33m)\u001b[0m\u001b[1;33m:\u001b[0m\u001b[1;33m\u001b[0m\u001b[0m\n\u001b[1;32m---> 32\u001b[1;33m     \u001b[1;32mreturn\u001b[0m \u001b[0mumr_sum\u001b[0m\u001b[1;33m(\u001b[0m\u001b[0ma\u001b[0m\u001b[1;33m,\u001b[0m \u001b[0maxis\u001b[0m\u001b[1;33m,\u001b[0m \u001b[0mdtype\u001b[0m\u001b[1;33m,\u001b[0m \u001b[0mout\u001b[0m\u001b[1;33m,\u001b[0m \u001b[0mkeepdims\u001b[0m\u001b[1;33m)\u001b[0m\u001b[1;33m\u001b[0m\u001b[0m\n\u001b[0m\u001b[0;32m     33\u001b[0m \u001b[1;33m\u001b[0m\u001b[0m\n\u001b[0;32m     34\u001b[0m \u001b[1;32mdef\u001b[0m \u001b[0m_prod\u001b[0m\u001b[1;33m(\u001b[0m\u001b[0ma\u001b[0m\u001b[1;33m,\u001b[0m \u001b[0maxis\u001b[0m\u001b[1;33m=\u001b[0m\u001b[1;32mNone\u001b[0m\u001b[1;33m,\u001b[0m \u001b[0mdtype\u001b[0m\u001b[1;33m=\u001b[0m\u001b[1;32mNone\u001b[0m\u001b[1;33m,\u001b[0m \u001b[0mout\u001b[0m\u001b[1;33m=\u001b[0m\u001b[1;32mNone\u001b[0m\u001b[1;33m,\u001b[0m \u001b[0mkeepdims\u001b[0m\u001b[1;33m=\u001b[0m\u001b[1;32mFalse\u001b[0m\u001b[1;33m)\u001b[0m\u001b[1;33m:\u001b[0m\u001b[1;33m\u001b[0m\u001b[0m\n",
      "\u001b[1;31mTypeError\u001b[0m: unsupported operand type(s) for +: 'int' and 'str'"
     ]
    }
   ],
   "source": [
    "small_df.groupby(\"GEOID\")[\"list_price\"].sum()\n",
    "small_df.groupby(\"GEOID\")[\"INVOICE_PRICE\"].sum()"
   ]
  },
  {
   "cell_type": "code",
   "execution_count": 48,
   "metadata": {},
   "outputs": [
    {
     "data": {
      "text/plain": [
       "(483684, 73)"
      ]
     },
     "execution_count": 48,
     "metadata": {},
     "output_type": "execute_result"
    }
   ],
   "source": [
    "R23_df.shape"
   ]
  },
  {
   "cell_type": "code",
   "execution_count": 57,
   "metadata": {},
   "outputs": [
    {
     "data": {
      "text/plain": [
       "0.2818947908138371"
      ]
     },
     "execution_count": 57,
     "metadata": {},
     "output_type": "execute_result"
    }
   ],
   "source": [
    "sum(R23_df['PY_STATE'].isna())/483684\n",
    "#28% of data don't have record for the state"
   ]
  },
  {
   "cell_type": "code",
   "execution_count": 63,
   "metadata": {},
   "outputs": [
    {
     "data": {
      "text/plain": [
       "277385.2727272727"
      ]
     },
     "execution_count": 63,
     "metadata": {},
     "output_type": "execute_result"
    }
   ],
   "source": [
    "small_df.groupby(\"GEOID\")[\"INVOICE_PRICE\"]"
   ]
  },
  {
   "cell_type": "code",
   "execution_count": 73,
   "metadata": {},
   "outputs": [
    {
     "data": {
      "text/plain": [
       "163840            0\n",
       "163841            0\n",
       "163842            0\n",
       "163843            0\n",
       "163844            0\n",
       "163845            0\n",
       "163846            0\n",
       "163847            0\n",
       "163848            0\n",
       "163849            0\n",
       "163850            0\n",
       "163851            0\n",
       "163852            0\n",
       "163853            0\n",
       "163854            0\n",
       "163855            0\n",
       "163856            0\n",
       "163857            0\n",
       "163858            0\n",
       "163859    105385967\n",
       "163860    107145327\n",
       "163861            0\n",
       "163862            0\n",
       "163863            0\n",
       "163864            0\n",
       "163865            0\n",
       "163866            0\n",
       "163867            0\n",
       "163868            0\n",
       "163869            0\n",
       "            ...    \n",
       "401378            0\n",
       "401379            0\n",
       "401380            0\n",
       "401381            0\n",
       "401382            0\n",
       "401383            0\n",
       "401384            0\n",
       "401385            0\n",
       "401386            0\n",
       "401387            0\n",
       "401388            0\n",
       "401389            0\n",
       "401390            0\n",
       "401391            0\n",
       "401392            0\n",
       "401393            0\n",
       "401394            0\n",
       "401395            0\n",
       "401396            0\n",
       "401397            0\n",
       "401398            0\n",
       "401399            0\n",
       "401400            0\n",
       "401401            0\n",
       "401402            0\n",
       "401403            0\n",
       "401404            0\n",
       "401405            0\n",
       "401406            0\n",
       "401407            0\n",
       "Name: INVOICE_PRICE, Length: 27259, dtype: object"
      ]
     },
     "execution_count": 73,
     "metadata": {},
     "output_type": "execute_result"
    }
   ],
   "source": [
    " \n",
    "\n",
    "\n",
    "\n",
    "ind = small_df[\"INVOICE_PRICE\"].apply(lambda x :isinstance(x, str))\n",
    "small_df[\"INVOICE_PRICE\"][ind]"
   ]
  },
  {
   "cell_type": "code",
   "execution_count": 75,
   "metadata": {},
   "outputs": [
    {
     "data": {
      "text/plain": [
       "0.056357043028092725"
      ]
     },
     "execution_count": 75,
     "metadata": {},
     "output_type": "execute_result"
    }
   ],
   "source": [
    "small_df[\"INVOICE_PRICE\"][ind].count()/483684\n",
    "# 5% of the Invoiced price is str(weird)"
   ]
  },
  {
   "cell_type": "code",
   "execution_count": 87,
   "metadata": {},
   "outputs": [
    {
     "data": {
      "text/plain": [
       "171607                     HARTEMA ENTERPRISES LLC\n",
       "171609                              HEARTLAND PORK\n",
       "171610                T.S. & K.D. GLIDE FOUNDATION\n",
       "171614                        CHARLES E HOOD MD PA\n",
       "171639                           BUCKEYE BOAT CLUB\n",
       "171644               KILLGORE LAND MANAGEMENT, LLC\n",
       "171712                              HOGSBACK FARMS\n",
       "171714                           AKERS FARMS, INC.\n",
       "171758                  BODENSTEINER IMPLEMENT CO.\n",
       "171775                                SIGN COUNTRY\n",
       "171859                      ROBERT MORRIS TRUCKING\n",
       "171871                         ALLEMAN HIGH SCHOOL\n",
       "171874                  DICK LEDGERWOOD & SON  INC\n",
       "171890                          TIEMANN PROPERITES\n",
       "171906                                    LITTLE'S\n",
       "171932     PINNACLE AGRICULTURE DISTRIBUTION INC -\n",
       "171936                            DOW AGROSCIENCES\n",
       "171952                               THLAWN WIZARD\n",
       "171961                          CAPITAL AUTO SALES\n",
       "171968                 DFW SMALL ENGINE CENTER INC\n",
       "171970                      HOLLAND AND SONS, INC.\n",
       "171974                                  LAYERS INC\n",
       "171987              ST ELIZABETH'S CATHOLIC CHURCH\n",
       "171998                          JERSEY SHORE GLASS\n",
       "172014                             SUNSHINE RESORT\n",
       "172052                      HERITAGE TRACTOR, INC.\n",
       "172055            CECIL SAND AND GRAVEL & REDI MIX\n",
       "172063                        ROEDER OUTDOOR POWER\n",
       "172068                   TRACTOR CENTRAL - CAMERON\n",
       "172126                     STRIBLING EQUIPMENT LLC\n",
       "                            ...                   \n",
       "399166                          MAIERS LANDSCAPING\n",
       "399173                           R & J FARMS, LTD.\n",
       "399186                            BONE CREEK RANCH\n",
       "399197                          LYLES POULTRY FARM\n",
       "399224                             DAVID OSTERHAUS\n",
       "399243                    TROXEL EQUIPMENT CO  LLC\n",
       "399257               POWERS AUCTION - TURF AUCTION\n",
       "399262                        TWO LUCKY DOGS, INC.\n",
       "399263                               KONSELA, IVAN\n",
       "399265                MOUNTAIN VIEW EQUIPMENT, LLC\n",
       "399305                      WM WARNER CONSTRUCTION\n",
       "399307           CHOCTAW NATION FACILITY MANAGMENT\n",
       "399311                 FOUR SEASONS TREE FARM  LLC\n",
       "399312                           REUSS ENGINEERING\n",
       "399320                                 CREST FOODS\n",
       "399341                           US POSTAL SERVICE\n",
       "399342                       MORTENSON MASONRY INC\n",
       "399377                          SPRING MEADOW FARM\n",
       "399399                          LORENZEN FARMS LLC\n",
       "399429                      ROTH ENTERPRISES, INC.\n",
       "399449                                     TBH LLC\n",
       "399453                           ORTIZ MAINTENANCE\n",
       "399466                     FELT SCHOOL DISTRICT 10\n",
       "399483                        DELTA BAPTIST CHURCH\n",
       "399507    HARRINGTONS LAWN CARE AND LANDSCAPING IN\n",
       "399517                        M & T EXCAVATING INC\n",
       "399550                    TROXEL EQUIPMENT CO  LLC\n",
       "399552                                 ARGYLL FARM\n",
       "399571                            ST PE-GRAHAM LFP\n",
       "399576                     WALDRON'S OUTDOOR EQUIP\n",
       "Name: INVOICE_PRICE, Length: 17637, dtype: object"
      ]
     },
     "execution_count": 87,
     "metadata": {},
     "output_type": "execute_result"
    }
   ],
   "source": [
    "def operation(x):\n",
    "    try:\n",
    "        return(float(x))        #运行try语句块，并试图捕获异常\n",
    "    except ValueError:\n",
    "        return(x)\n",
    "         \n",
    "ind = (small_df[\"INVOICE_PRICE\"].fillna(0).apply(lambda x :operation(x)).apply(lambda x :isinstance(x, str)))\n",
    "small_df[\"INVOICE_PRICE\"][ind]"
   ]
  },
  {
   "cell_type": "code",
   "execution_count": 89,
   "metadata": {},
   "outputs": [
    {
     "data": {
      "text/plain": [
       "0.03646388964695958"
      ]
     },
     "execution_count": 89,
     "metadata": {},
     "output_type": "execute_result"
    }
   ],
   "source": [
    " 17637/R23_df.shape[0]\n"
   ]
  },
  {
   "cell_type": "code",
   "execution_count": null,
   "metadata": {},
   "outputs": [],
   "source": []
  }
 ],
 "metadata": {
  "kernelspec": {
   "display_name": "Python 3",
   "language": "python",
   "name": "python3"
  },
  "language_info": {
   "codemirror_mode": {
    "name": "ipython",
    "version": 3
   },
   "file_extension": ".py",
   "mimetype": "text/x-python",
   "name": "python",
   "nbconvert_exporter": "python",
   "pygments_lexer": "ipython3",
   "version": "3.6.5"
  }
 },
 "nbformat": 4,
 "nbformat_minor": 2
}
