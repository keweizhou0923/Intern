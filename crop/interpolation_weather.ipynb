{
 "cells": [
  {
   "cell_type": "code",
   "execution_count": 7,
   "metadata": {},
   "outputs": [],
   "source": [
    "import pandas as pd\n",
    "import numpy as np\n",
    "import os\n",
    "import warnings\n",
    "import math\n",
    "import scipy.interpolate\n",
    "import matplotlib.pyplot as plt\n",
    "import seaborn as sns\n",
    "import csv\n",
    "from tqdm import tqdm"
   ]
  },
  {
   "cell_type": "code",
   "execution_count": 8,
   "metadata": {},
   "outputs": [],
   "source": [
    "# combined weather data\n",
    "weather_path = os.path.join(os.getcwd(), 'data', 'weather_20190226.csv')\n",
    "# coordinates of all the towns\n",
    "town_coord_path = os.path.join(os.getcwd(), 'data', 'FieldSiteLocations.csv')"
   ]
  },
  {
   "cell_type": "code",
   "execution_count": 9,
   "metadata": {},
   "outputs": [
    {
     "data": {
      "text/plain": [
       "'C:\\\\Users\\\\KZ26677\\\\Desktop\\\\JD project\\\\crop yield\\\\data\\\\weather_20190226.csv'"
      ]
     },
     "execution_count": 9,
     "metadata": {},
     "output_type": "execute_result"
    }
   ],
   "source": [
    "weather_path"
   ]
  },
  {
   "cell_type": "code",
   "execution_count": 10,
   "metadata": {},
   "outputs": [],
   "source": [
    "weather = pd.read_csv(weather_path, header = 0, parse_dates=[0])\n",
    "# weather['LOCATION_TOWN'] = weather['LOCATION_TOWN'].str.upper()"
   ]
  },
  {
   "cell_type": "code",
   "execution_count": 11,
   "metadata": {},
   "outputs": [
    {
     "data": {
      "text/html": [
       "<div>\n",
       "<style scoped>\n",
       "    .dataframe tbody tr th:only-of-type {\n",
       "        vertical-align: middle;\n",
       "    }\n",
       "\n",
       "    .dataframe tbody tr th {\n",
       "        vertical-align: top;\n",
       "    }\n",
       "\n",
       "    .dataframe thead th {\n",
       "        text-align: right;\n",
       "    }\n",
       "</style>\n",
       "<table border=\"1\" class=\"dataframe\">\n",
       "  <thead>\n",
       "    <tr style=\"text-align: right;\">\n",
       "      <th></th>\n",
       "      <th>STATION</th>\n",
       "      <th>NAME</th>\n",
       "      <th>LATITUDE</th>\n",
       "      <th>LONGITUDE</th>\n",
       "      <th>ELEVATION</th>\n",
       "      <th>DATE</th>\n",
       "      <th>AWND</th>\n",
       "      <th>PRCP</th>\n",
       "      <th>TMAX</th>\n",
       "      <th>TMIN</th>\n",
       "    </tr>\n",
       "  </thead>\n",
       "  <tbody>\n",
       "    <tr>\n",
       "      <th>0</th>\n",
       "      <td>USC00113106</td>\n",
       "      <td>FLORA, IL US</td>\n",
       "      <td>38.678</td>\n",
       "      <td>-88.4798</td>\n",
       "      <td>146.6</td>\n",
       "      <td>1/1/2011</td>\n",
       "      <td>NaN</td>\n",
       "      <td>0.62</td>\n",
       "      <td>60.0</td>\n",
       "      <td>32.0</td>\n",
       "    </tr>\n",
       "    <tr>\n",
       "      <th>1</th>\n",
       "      <td>USC00113106</td>\n",
       "      <td>FLORA, IL US</td>\n",
       "      <td>38.678</td>\n",
       "      <td>-88.4798</td>\n",
       "      <td>146.6</td>\n",
       "      <td>1/2/2011</td>\n",
       "      <td>NaN</td>\n",
       "      <td>0.00</td>\n",
       "      <td>38.0</td>\n",
       "      <td>18.0</td>\n",
       "    </tr>\n",
       "    <tr>\n",
       "      <th>2</th>\n",
       "      <td>USC00113106</td>\n",
       "      <td>FLORA, IL US</td>\n",
       "      <td>38.678</td>\n",
       "      <td>-88.4798</td>\n",
       "      <td>146.6</td>\n",
       "      <td>1/3/2011</td>\n",
       "      <td>NaN</td>\n",
       "      <td>0.00</td>\n",
       "      <td>32.0</td>\n",
       "      <td>19.0</td>\n",
       "    </tr>\n",
       "    <tr>\n",
       "      <th>3</th>\n",
       "      <td>USC00113106</td>\n",
       "      <td>FLORA, IL US</td>\n",
       "      <td>38.678</td>\n",
       "      <td>-88.4798</td>\n",
       "      <td>146.6</td>\n",
       "      <td>1/4/2011</td>\n",
       "      <td>NaN</td>\n",
       "      <td>0.00</td>\n",
       "      <td>43.0</td>\n",
       "      <td>23.0</td>\n",
       "    </tr>\n",
       "    <tr>\n",
       "      <th>4</th>\n",
       "      <td>USC00113106</td>\n",
       "      <td>FLORA, IL US</td>\n",
       "      <td>38.678</td>\n",
       "      <td>-88.4798</td>\n",
       "      <td>146.6</td>\n",
       "      <td>1/5/2011</td>\n",
       "      <td>NaN</td>\n",
       "      <td>0.00</td>\n",
       "      <td>37.0</td>\n",
       "      <td>18.0</td>\n",
       "    </tr>\n",
       "  </tbody>\n",
       "</table>\n",
       "</div>"
      ],
      "text/plain": [
       "       STATION          NAME  LATITUDE  LONGITUDE  ELEVATION      DATE  AWND  \\\n",
       "0  USC00113106  FLORA, IL US    38.678   -88.4798      146.6  1/1/2011   NaN   \n",
       "1  USC00113106  FLORA, IL US    38.678   -88.4798      146.6  1/2/2011   NaN   \n",
       "2  USC00113106  FLORA, IL US    38.678   -88.4798      146.6  1/3/2011   NaN   \n",
       "3  USC00113106  FLORA, IL US    38.678   -88.4798      146.6  1/4/2011   NaN   \n",
       "4  USC00113106  FLORA, IL US    38.678   -88.4798      146.6  1/5/2011   NaN   \n",
       "\n",
       "   PRCP  TMAX  TMIN  \n",
       "0  0.62  60.0  32.0  \n",
       "1  0.00  38.0  18.0  \n",
       "2  0.00  32.0  19.0  \n",
       "3  0.00  43.0  23.0  \n",
       "4  0.00  37.0  18.0  "
      ]
     },
     "execution_count": 11,
     "metadata": {},
     "output_type": "execute_result"
    }
   ],
   "source": [
    "weather.head()"
   ]
  },
  {
   "cell_type": "code",
   "execution_count": 12,
   "metadata": {},
   "outputs": [],
   "source": [
    "town_coord = pd.read_csv(town_coord_path, header = 0, parse_dates=[0])\n",
    "town_coord.columns = ['City', 'Longitute-trimmed', 'Latitude-trimmed']\n",
    "town_coord['City'] = town_coord['City'].str.upper()"
   ]
  },
  {
   "cell_type": "code",
   "execution_count": 13,
   "metadata": {},
   "outputs": [
    {
     "data": {
      "text/html": [
       "<div>\n",
       "<style scoped>\n",
       "    .dataframe tbody tr th:only-of-type {\n",
       "        vertical-align: middle;\n",
       "    }\n",
       "\n",
       "    .dataframe tbody tr th {\n",
       "        vertical-align: top;\n",
       "    }\n",
       "\n",
       "    .dataframe thead th {\n",
       "        text-align: right;\n",
       "    }\n",
       "</style>\n",
       "<table border=\"1\" class=\"dataframe\">\n",
       "  <thead>\n",
       "    <tr style=\"text-align: right;\">\n",
       "      <th></th>\n",
       "      <th>STATION</th>\n",
       "      <th>NAME</th>\n",
       "      <th>LATITUDE</th>\n",
       "      <th>LONGITUDE</th>\n",
       "      <th>ELEVATION</th>\n",
       "      <th>DATE</th>\n",
       "      <th>AWND</th>\n",
       "      <th>PRCP</th>\n",
       "      <th>TMAX</th>\n",
       "      <th>TMIN</th>\n",
       "    </tr>\n",
       "  </thead>\n",
       "  <tbody>\n",
       "    <tr>\n",
       "      <th>0</th>\n",
       "      <td>USC00113106</td>\n",
       "      <td>FLORA, IL US</td>\n",
       "      <td>38.678</td>\n",
       "      <td>-88.4798</td>\n",
       "      <td>146.6</td>\n",
       "      <td>1/1/2011</td>\n",
       "      <td>NaN</td>\n",
       "      <td>0.62</td>\n",
       "      <td>60.0</td>\n",
       "      <td>32.0</td>\n",
       "    </tr>\n",
       "    <tr>\n",
       "      <th>1</th>\n",
       "      <td>USC00113106</td>\n",
       "      <td>FLORA, IL US</td>\n",
       "      <td>38.678</td>\n",
       "      <td>-88.4798</td>\n",
       "      <td>146.6</td>\n",
       "      <td>1/2/2011</td>\n",
       "      <td>NaN</td>\n",
       "      <td>0.00</td>\n",
       "      <td>38.0</td>\n",
       "      <td>18.0</td>\n",
       "    </tr>\n",
       "    <tr>\n",
       "      <th>2</th>\n",
       "      <td>USC00113106</td>\n",
       "      <td>FLORA, IL US</td>\n",
       "      <td>38.678</td>\n",
       "      <td>-88.4798</td>\n",
       "      <td>146.6</td>\n",
       "      <td>1/3/2011</td>\n",
       "      <td>NaN</td>\n",
       "      <td>0.00</td>\n",
       "      <td>32.0</td>\n",
       "      <td>19.0</td>\n",
       "    </tr>\n",
       "    <tr>\n",
       "      <th>3</th>\n",
       "      <td>USC00113106</td>\n",
       "      <td>FLORA, IL US</td>\n",
       "      <td>38.678</td>\n",
       "      <td>-88.4798</td>\n",
       "      <td>146.6</td>\n",
       "      <td>1/4/2011</td>\n",
       "      <td>NaN</td>\n",
       "      <td>0.00</td>\n",
       "      <td>43.0</td>\n",
       "      <td>23.0</td>\n",
       "    </tr>\n",
       "    <tr>\n",
       "      <th>4</th>\n",
       "      <td>USC00113106</td>\n",
       "      <td>FLORA, IL US</td>\n",
       "      <td>38.678</td>\n",
       "      <td>-88.4798</td>\n",
       "      <td>146.6</td>\n",
       "      <td>1/5/2011</td>\n",
       "      <td>NaN</td>\n",
       "      <td>0.00</td>\n",
       "      <td>37.0</td>\n",
       "      <td>18.0</td>\n",
       "    </tr>\n",
       "  </tbody>\n",
       "</table>\n",
       "</div>"
      ],
      "text/plain": [
       "       STATION          NAME  LATITUDE  LONGITUDE  ELEVATION      DATE  AWND  \\\n",
       "0  USC00113106  FLORA, IL US    38.678   -88.4798      146.6  1/1/2011   NaN   \n",
       "1  USC00113106  FLORA, IL US    38.678   -88.4798      146.6  1/2/2011   NaN   \n",
       "2  USC00113106  FLORA, IL US    38.678   -88.4798      146.6  1/3/2011   NaN   \n",
       "3  USC00113106  FLORA, IL US    38.678   -88.4798      146.6  1/4/2011   NaN   \n",
       "4  USC00113106  FLORA, IL US    38.678   -88.4798      146.6  1/5/2011   NaN   \n",
       "\n",
       "   PRCP  TMAX  TMIN  \n",
       "0  0.62  60.0  32.0  \n",
       "1  0.00  38.0  18.0  \n",
       "2  0.00  32.0  19.0  \n",
       "3  0.00  43.0  23.0  \n",
       "4  0.00  37.0  18.0  "
      ]
     },
     "execution_count": 13,
     "metadata": {},
     "output_type": "execute_result"
    }
   ],
   "source": [
    "weather.head()"
   ]
  },
  {
   "cell_type": "code",
   "execution_count": 14,
   "metadata": {},
   "outputs": [
    {
     "data": {
      "text/html": [
       "<div>\n",
       "<style scoped>\n",
       "    .dataframe tbody tr th:only-of-type {\n",
       "        vertical-align: middle;\n",
       "    }\n",
       "\n",
       "    .dataframe tbody tr th {\n",
       "        vertical-align: top;\n",
       "    }\n",
       "\n",
       "    .dataframe thead th {\n",
       "        text-align: right;\n",
       "    }\n",
       "</style>\n",
       "<table border=\"1\" class=\"dataframe\">\n",
       "  <thead>\n",
       "    <tr style=\"text-align: right;\">\n",
       "      <th></th>\n",
       "      <th>City</th>\n",
       "      <th>Longitute-trimmed</th>\n",
       "      <th>Latitude-trimmed</th>\n",
       "    </tr>\n",
       "  </thead>\n",
       "  <tbody>\n",
       "    <tr>\n",
       "      <th>0</th>\n",
       "      <td>F_BELLEVILLE</td>\n",
       "      <td>-89.984</td>\n",
       "      <td>38.513</td>\n",
       "    </tr>\n",
       "    <tr>\n",
       "      <th>1</th>\n",
       "      <td>F_BETHANY</td>\n",
       "      <td>-88.741</td>\n",
       "      <td>39.645</td>\n",
       "    </tr>\n",
       "    <tr>\n",
       "      <th>2</th>\n",
       "      <td>F_CLAYTON</td>\n",
       "      <td>-90.953</td>\n",
       "      <td>40.028</td>\n",
       "    </tr>\n",
       "    <tr>\n",
       "      <th>3</th>\n",
       "      <td>F_DELAVAN</td>\n",
       "      <td>-89.547</td>\n",
       "      <td>40.372</td>\n",
       "    </tr>\n",
       "    <tr>\n",
       "      <th>4</th>\n",
       "      <td>F_DU QUOIN</td>\n",
       "      <td>-89.243</td>\n",
       "      <td>38.011</td>\n",
       "    </tr>\n",
       "  </tbody>\n",
       "</table>\n",
       "</div>"
      ],
      "text/plain": [
       "           City  Longitute-trimmed  Latitude-trimmed\n",
       "0  F_BELLEVILLE            -89.984            38.513\n",
       "1     F_BETHANY            -88.741            39.645\n",
       "2     F_CLAYTON            -90.953            40.028\n",
       "3     F_DELAVAN            -89.547            40.372\n",
       "4    F_DU QUOIN            -89.243            38.011"
      ]
     },
     "execution_count": 14,
     "metadata": {},
     "output_type": "execute_result"
    }
   ],
   "source": [
    "town_coord.head()"
   ]
  },
  {
   "cell_type": "code",
   "execution_count": 15,
   "metadata": {
    "scrolled": true
   },
   "outputs": [
    {
     "data": {
      "text/html": [
       "<div>\n",
       "<style scoped>\n",
       "    .dataframe tbody tr th:only-of-type {\n",
       "        vertical-align: middle;\n",
       "    }\n",
       "\n",
       "    .dataframe tbody tr th {\n",
       "        vertical-align: top;\n",
       "    }\n",
       "\n",
       "    .dataframe thead th {\n",
       "        text-align: right;\n",
       "    }\n",
       "</style>\n",
       "<table border=\"1\" class=\"dataframe\">\n",
       "  <thead>\n",
       "    <tr style=\"text-align: right;\">\n",
       "      <th></th>\n",
       "      <th>STATION</th>\n",
       "      <th>LATITUDE</th>\n",
       "      <th>LONGITUDE</th>\n",
       "    </tr>\n",
       "  </thead>\n",
       "  <tbody>\n",
       "    <tr>\n",
       "      <th>0</th>\n",
       "      <td>US1ILPT0002</td>\n",
       "      <td>40.04060</td>\n",
       "      <td>-88.70390</td>\n",
       "    </tr>\n",
       "    <tr>\n",
       "      <th>1</th>\n",
       "      <td>US1ILWD0008</td>\n",
       "      <td>41.88760</td>\n",
       "      <td>-89.81360</td>\n",
       "    </tr>\n",
       "    <tr>\n",
       "      <th>2</th>\n",
       "      <td>US1KSMP0014</td>\n",
       "      <td>38.39820</td>\n",
       "      <td>-97.52070</td>\n",
       "    </tr>\n",
       "    <tr>\n",
       "      <th>3</th>\n",
       "      <td>US1KYMM0003</td>\n",
       "      <td>38.06550</td>\n",
       "      <td>-83.98810</td>\n",
       "    </tr>\n",
       "    <tr>\n",
       "      <th>4</th>\n",
       "      <td>USC00110137</td>\n",
       "      <td>38.86702</td>\n",
       "      <td>-90.14886</td>\n",
       "    </tr>\n",
       "  </tbody>\n",
       "</table>\n",
       "</div>"
      ],
      "text/plain": [
       "       STATION  LATITUDE  LONGITUDE\n",
       "0  US1ILPT0002  40.04060  -88.70390\n",
       "1  US1ILWD0008  41.88760  -89.81360\n",
       "2  US1KSMP0014  38.39820  -97.52070\n",
       "3  US1KYMM0003  38.06550  -83.98810\n",
       "4  USC00110137  38.86702  -90.14886"
      ]
     },
     "execution_count": 15,
     "metadata": {},
     "output_type": "execute_result"
    }
   ],
   "source": [
    "# latitude/longitude coordinates of all the stations\n",
    "station_coord = weather.groupby(by=['STATION','LATITUDE','LONGITUDE'], as_index=False).first()[['STATION','LATITUDE','LONGITUDE']]\n",
    "station_coord.head()"
   ]
  },
  {
   "cell_type": "code",
   "execution_count": 16,
   "metadata": {},
   "outputs": [],
   "source": [
    "EARTH_REDIUS = 6378.137\n",
    "\n",
    "def rad(d):\n",
    "    return d * math.pi / 180.0\n",
    "\n",
    "def getDistance(lat1, lon1, lat2, lon2):\n",
    "    \"\"\"\n",
    "    calculate the distance between two places\n",
    "    \"\"\"\n",
    "    radLat1 = rad(lat1) # WA\n",
    "    radLat2 = rad(lat2) # Wb\n",
    "    radLon1 = rad(lon1) #Ja\n",
    "    radLon2 = rad(lon2) #Jb\n",
    "    a = radLat1 - radLat2\n",
    "    b = radLon1 - radLon2\n",
    "    # Haversine Formula\n",
    "    s = 2 * math.asin(math.sqrt(math.pow(math.sin(a/2), 2) + \n",
    "                                math.cos(radLat1) * math.cos(radLat2) * math.pow(math.sin(b/2), 2)))\n",
    "    s = s * EARTH_REDIUS\n",
    "    return s"
   ]
  },
  {
   "cell_type": "code",
   "execution_count": 17,
   "metadata": {},
   "outputs": [
    {
     "name": "stdout",
     "output_type": "stream",
     "text": [
      "176.0598743614326 kilometers\n"
     ]
    }
   ],
   "source": [
    "# straight-line distance between Belleville and Mount Sterling Station based on getDistance function\n",
    "print(getDistance(39.9841, -90.7525, 38.52, -89.98),'kilometers')"
   ]
  },
  {
   "cell_type": "code",
   "execution_count": 18,
   "metadata": {},
   "outputs": [],
   "source": [
    "# set the number of nearest stations\n",
    "#num_nearest = 2"
   ]
  },
  {
   "cell_type": "code",
   "execution_count": 19,
   "metadata": {
    "scrolled": false
   },
   "outputs": [],
   "source": [
    "def nearest_stat(num_nearest):\n",
    "    # a dictionary containing the nearest five stations' IDs and distances of each town\n",
    "    nearest_stations = {}\n",
    "\n",
    "    # a certain town\n",
    "    for town_index in town_coord.index.values:\n",
    "        # latitude/longitude of the town\n",
    "        town_lon = town_coord.iloc[town_index]['Longitute-trimmed']\n",
    "        town_lat = town_coord.iloc[town_index]['Latitude-trimmed']\n",
    "\n",
    "        # a dictionary containing all the stations' IDs and distances to the town\n",
    "        all_stations = {}\n",
    "\n",
    "        # go throught all the stations and calculate the distance between the town and each station\n",
    "        for station_index in station_coord.index.values:\n",
    "            station_lon = station_coord.iloc[station_index]['LONGITUDE']\n",
    "            station_lat = station_coord.iloc[station_index]['LATITUDE']\n",
    "            # insert the distance between the town and a station\n",
    "            all_stations[station_coord.iloc[station_index]['STATION']] = getDistance(town_lat, town_lon, station_lat, station_lon)\n",
    "\n",
    "        # sort all the stations according to their distances to the town\n",
    "        all_stations = sorted(all_stations.items(), key=lambda d: d[1])\n",
    "\n",
    "        # get the five nearest stations\n",
    "        nearest_stations[town_coord.iloc[town_index]['City']] = all_stations[:num_nearest]\n",
    "    return nearest_stations\n",
    "    \n",
    "# get the nearest stations of Belleville\n",
    "nearest_stations = nearest_stat(7)\n",
    "#nearest_stations['BELLEVILLE']"
   ]
  },
  {
   "cell_type": "code",
   "execution_count": 20,
   "metadata": {},
   "outputs": [
    {
     "data": {
      "text/plain": [
       "[('USW00013802', 12.49070191509044),\n",
       " ('USC00237452', 28.093192044681526),\n",
       " ('USC00112679', 33.03060160203802),\n",
       " ('USC00110137', 41.93192209565437),\n",
       " ('USC00116011', 57.71546612824573),\n",
       " ('USC00113693', 63.74815870243718),\n",
       " ('USC00116642', 85.4219683075872)]"
      ]
     },
     "execution_count": 20,
     "metadata": {},
     "output_type": "execute_result"
    }
   ],
   "source": [
    "nearest_stations['F_BELLEVILLE']"
   ]
  },
  {
   "cell_type": "code",
   "execution_count": 21,
   "metadata": {},
   "outputs": [],
   "source": [
    "def get_flag(param, station_id,flag_index = 2):\n",
    "    \"\"\"\n",
    "    get a certain flag of a certain parameter's attribtue\n",
    "    E.g. ',L,7,1700' for 'PRCP_ATTRIBUTE' indicates that the value should be removed because the 2nd field is populated\n",
    "    \"\"\"\n",
    "    try:\n",
    "        # split the attribute column by comma\n",
    "        param_flags = weather[weather['STATION'] == station_id][param +'_ATTRIBUTES'].str.split(',', expand = True)\n",
    "        # return the target flag column\n",
    "        return param_flags[flag_index - 1]\n",
    "    # the parameter does not have a corresponding attribute column\n",
    "    except:\n",
    "        # return a column filled with ''\n",
    "        return pd.Series('', index = weather[weather['STATION'] == station_id].index)"
   ]
  },
  {
   "cell_type": "code",
   "execution_count": 22,
   "metadata": {},
   "outputs": [
    {
     "data": {
      "text/plain": [
       "0"
      ]
     },
     "execution_count": 22,
     "metadata": {},
     "output_type": "execute_result"
    }
   ],
   "source": [
    "sum(get_flag('TMAX', 'USW00013802') != '')"
   ]
  },
  {
   "cell_type": "code",
   "execution_count": 23,
   "metadata": {},
   "outputs": [],
   "source": [
    "def IDW_interpolation(town, param, power,num_nearest, drop_invalid = False):\n",
    "    nearest_stations = nearest_stat(num_nearest)\n",
    "    station_id_list = [i[0] for i in nearest_stations[town]]\n",
    "    distance_list = [i[1] for i in nearest_stations[town]]\n",
    "    \n",
    "    if drop_invalid == True:\n",
    "        # get the date and target parameter columns of the first station\n",
    "        combined_df = weather[weather['STATION'] == station_id_list[0]][['DATE', param]]\n",
    "        # get the column of a certain attribute\n",
    "        temp_flag = get_flag(param, station_id_list[0])\n",
    "        # set certain values to NaN based on the attribute column\n",
    "        combined_df.loc[temp_flag != '', param] = np.nan\n",
    "        # append the other stations\n",
    "        for station_id in station_id_list[1:]:\n",
    "            temp_df = weather[weather['STATION'] == station_id][['DATE', param]]\n",
    "            temp_flag = get_flag(param, station_id)\n",
    "            temp_df.loc[temp_flag != '', param] = np.nan\n",
    "            combined_df = pd.merge(combined_df, temp_df, on = 'DATE', how = 'outer')\n",
    "        # rename the columns\n",
    "        combined_df.columns = ['DATE'] + [param+str(i) for i in range(num_nearest)]\n",
    "        combined_df = combined_df.drop_duplicates(keep = 'first')\n",
    "    else:\n",
    "        combined_df = weather[weather['STATION'] == station_id_list[0]][['DATE', param]]\n",
    "        for station_id in station_id_list[1:]:\n",
    "            temp_df = weather[weather['STATION'] == station_id][['DATE', param]]\n",
    "            combined_df = pd.merge(combined_df, temp_df, on = 'DATE', how = 'outer')\n",
    "        combined_df.columns = ['DATE'] + [param+str(i) for i in range(num_nearest)]\n",
    "        combined_df = combined_df.drop_duplicates(keep = 'first')\n",
    "    \n",
    "    interpolated_value = []\n",
    "    # go though all the rows\n",
    "    for index, row in combined_df.iterrows():\n",
    "        numerator = []\n",
    "        denominator = []\n",
    "        # a value of NaN should be left out during the calculation\n",
    "        not_null_indice = []\n",
    "        # indice of NaNs in a row\n",
    "        for i in range(1, num_nearest+1):\n",
    "            if row[i] == row[i]:\n",
    "                not_null_indice.append(i)\n",
    "\n",
    "        for i in not_null_indice:\n",
    "            numerator.append(row[i]/(distance_list[i-1])**int(power))\n",
    "            denominator.append(1/(distance_list[i-1])**int(power))\n",
    "    \n",
    "        try:\n",
    "            interpolated_value.append(sum(numerator) / sum(denominator))\n",
    "        # all values in the row are NaNs\n",
    "        except:\n",
    "            # set the interpolated value as NaN\n",
    "            interpolated_value.append(np.nan)\n",
    "    \n",
    "    # add a column of interpolated values to the dataframe\n",
    "    combined_df = combined_df.reset_index().join(pd.DataFrame(interpolated_value))\n",
    "    del combined_df['index']\n",
    "    combined_df.rename(columns = {0:'Interpolated '+param}, inplace=True)\n",
    "    \n",
    "    return combined_df"
   ]
  },
  {
   "cell_type": "code",
   "execution_count": 24,
   "metadata": {},
   "outputs": [],
   "source": [
    "#CSV for Thomasboro\n",
    "def write_interpolated_values(param,num_nearest, power):\n",
    "    \"\"\"\n",
    "    write the interpolated values of a certain parameter into a csv\n",
    "    \"\"\"\n",
    "    with open(\"THOMASBORO_\"+param + \"(p\" + str(power) + 'n' + str(num_nearest) +\").csv\",\"w\") as csvfile:\n",
    "        writer = csv.writer(csvfile, delimiter=',')\n",
    "        \n",
    "        writer.writerow(['CITY'] + list(IDW_interpolation(town_coord['City'][0], param, power, num_nearest).columns))\n",
    "\n",
    "        with tqdm (total = len(town_coord['City'])) as pbar:\n",
    "            for town in town_coord['City']:\n",
    "                if town == 'THOMASBORO':\n",
    "                    combined_df = IDW_interpolation(town, param, power,num_nearest)\n",
    "                    for index, row in combined_df.iterrows():\n",
    "                        writer.writerow([town] + [i for i in row])\n",
    "                pbar.update()"
   ]
  },
  {
   "cell_type": "code",
   "execution_count": 25,
   "metadata": {},
   "outputs": [
    {
     "name": "stderr",
     "output_type": "stream",
     "text": [
      "100%|██████████████████████████████████████████████████████████████████████████████████████████| 50/50 [00:00<?, ?it/s]\n",
      "100%|██████████████████████████████████████████████████████████████████████████████████████████| 50/50 [00:00<?, ?it/s]\n",
      "100%|██████████████████████████████████████████████████████████████████████████████████████████| 50/50 [00:00<?, ?it/s]\n",
      "100%|██████████████████████████████████████████████████████████████████████████████████████████| 50/50 [00:00<?, ?it/s]\n",
      "100%|██████████████████████████████████████████████████████████████████████████████████████████| 50/50 [00:00<?, ?it/s]\n",
      "100%|██████████████████████████████████████████████████████████████████████████████████████████| 50/50 [00:00<?, ?it/s]\n",
      "100%|██████████████████████████████████████████████████████████████████████████████████████████| 50/50 [00:00<?, ?it/s]\n",
      "100%|██████████████████████████████████████████████████████████████████████████████████████████| 50/50 [00:00<?, ?it/s]\n",
      "100%|███████████████████████████████████████████████████████████████████████████████| 50/50 [00:00<00:00, 49872.82it/s]\n",
      "100%|██████████████████████████████████████████████████████████████████████████████████████████| 50/50 [00:00<?, ?it/s]\n",
      "100%|██████████████████████████████████████████████████████████████████████████████████████████| 50/50 [00:00<?, ?it/s]\n",
      "100%|███████████████████████████████████████████████████████████████████████████████| 50/50 [00:00<00:00, 49719.11it/s]\n",
      "100%|██████████████████████████████████████████████████████████████████████████████████████████| 50/50 [00:00<?, ?it/s]\n",
      "100%|██████████████████████████████████████████████████████████████████████████████████████████| 50/50 [00:00<?, ?it/s]\n",
      "100%|██████████████████████████████████████████████████████████████████████████████████████████| 50/50 [00:00<?, ?it/s]\n",
      "100%|██████████████████████████████████████████████████████████████████████████████████████████| 50/50 [00:00<?, ?it/s]\n",
      "100%|███████████████████████████████████████████████████████████████████████████████| 50/50 [00:00<00:00, 49849.11it/s]\n",
      "100%|██████████████████████████████████████████████████████████████████████████████████████████| 50/50 [00:00<?, ?it/s]\n",
      "100%|███████████████████████████████████████████████████████████████████████████████| 50/50 [00:00<00:00, 49860.96it/s]\n",
      "100%|██████████████████████████████████████████████████████████████████████████████████████████| 50/50 [00:00<?, ?it/s]\n",
      "100%|██████████████████████████████████████████████████████████████████████████████████████████| 50/50 [00:00<?, ?it/s]\n",
      "100%|███████████████████████████████████████████████████████████████████████████████| 50/50 [00:00<00:00, 49496.15it/s]\n",
      "100%|██████████████████████████████████████████████████████████████████████████████████████████| 50/50 [00:00<?, ?it/s]\n",
      "100%|███████████████████████████████████████████████████████████████████████████████| 50/50 [00:00<00:00, 49766.30it/s]\n"
     ]
    }
   ],
   "source": [
    "nearest_stations_list = [1,2,3,5,7,9]\n",
    "\n",
    "for x in nearest_stations_list:\n",
    "    write_interpolated_values('TMAX',x,0.5)\n",
    "\n",
    "for x in nearest_stations_list:\n",
    "    write_interpolated_values('TMAX',x,1)\n",
    "\n",
    "for x in nearest_stations_list:\n",
    "    write_interpolated_values('TMAX',x,2)\n",
    "\n",
    "for x in nearest_stations_list:\n",
    "    write_interpolated_values('TMAX',x,3)"
   ]
  },
  {
   "cell_type": "code",
   "execution_count": 26,
   "metadata": {},
   "outputs": [
    {
     "name": "stderr",
     "output_type": "stream",
     "text": [
      "100%|███████████████████████████████████████████████████████████████████████████████| 50/50 [00:00<00:00, 50680.33it/s]\n",
      "100%|██████████████████████████████████████████████████████████████████████████████████████████| 50/50 [00:00<?, ?it/s]\n",
      "100%|██████████████████████████████████████████████████████████████████████████████████████████| 50/50 [00:00<?, ?it/s]\n",
      "100%|██████████████████████████████████████████████████████████████████████████████████████████| 50/50 [00:00<?, ?it/s]\n",
      "100%|███████████████████████████████████████████████████████████████████████████████| 50/50 [00:00<00:00, 48987.43it/s]\n",
      "100%|██████████████████████████████████████████████████████████████████████████████████████████| 50/50 [00:00<?, ?it/s]\n",
      "100%|██████████████████████████████████████████████████████████████████████████████████████████| 50/50 [00:00<?, ?it/s]\n",
      "100%|███████████████████████████████████████████████████████████████████████████████| 50/50 [00:00<00:00, 49944.08it/s]\n",
      "100%|██████████████████████████████████████████████████████████████████████████████████████████| 50/50 [00:00<?, ?it/s]\n",
      "100%|███████████████████████████████████████████████████████████████████████████████| 50/50 [00:00<00:00, 49624.99it/s]\n",
      "100%|██████████████████████████████████████████████████████████████████████████████████████████| 50/50 [00:00<?, ?it/s]\n",
      "100%|███████████████████████████████████████████████████████████████████████████████| 50/50 [00:00<00:00, 49920.30it/s]\n",
      "100%|██████████████████████████████████████████████████████████████████████████████████████████| 50/50 [00:00<?, ?it/s]\n",
      "100%|██████████████████████████████████████████████████████████████████████████████████████████| 50/50 [00:00<?, ?it/s]\n",
      "100%|██████████████████████████████████████████████████████████████████████████████████████████| 50/50 [00:00<?, ?it/s]\n",
      "100%|██████████████████████████████████████████████████████████████████████████████████████████| 50/50 [00:00<?, ?it/s]\n",
      "100%|███████████████████████████████████████████████████████████████████████████████| 50/50 [00:00<00:00, 49742.69it/s]\n",
      "100%|██████████████████████████████████████████████████████████████████████████████████████████| 50/50 [00:00<?, ?it/s]\n",
      "100%|██████████████████████████████████████████████████████████████████████████████████████████| 50/50 [00:00<?, ?it/s]\n",
      "100%|██████████████████████████████████████████████████████████████████████████████████████████| 50/50 [00:00<?, ?it/s]\n",
      "100%|███████████████████████████████████████████████████████████████████████████████| 50/50 [00:00<00:00, 49944.08it/s]\n",
      "100%|███████████████████████████████████████████████████████████████████████████████| 50/50 [00:00<00:00, 49778.12it/s]\n",
      "100%|██████████████████████████████████████████████████████████████████████████████████████████| 50/50 [00:00<?, ?it/s]\n",
      "100%|██████████████████████████████████████████████████████████████████████████████████████████| 50/50 [00:00<?, ?it/s]\n"
     ]
    }
   ],
   "source": [
    "nearest_stations_list = [1,2,3,5,7,9]\n",
    "\n",
    "for x in nearest_stations_list:\n",
    "    write_interpolated_values('PRCP',x,0.5)\n",
    "\n",
    "for x in nearest_stations_list:\n",
    "    write_interpolated_values('PRCP',x,1)\n",
    "\n",
    "for x in nearest_stations_list:\n",
    "    write_interpolated_values('PRCP',x,2)\n",
    "\n",
    "for x in nearest_stations_list:\n",
    "    write_interpolated_values('PRCP',x,3)"
   ]
  },
  {
   "cell_type": "code",
   "execution_count": 27,
   "metadata": {},
   "outputs": [
    {
     "name": "stderr",
     "output_type": "stream",
     "text": [
      "100%|██████████████████████████████████████████████████████████████████████████████████████████| 50/50 [00:00<?, ?it/s]\n",
      "100%|██████████████████████████████████████████████████████████████████████████████████████████| 50/50 [00:00<?, ?it/s]\n",
      "100%|██████████████████████████████████████████████████████████████████████████████████████████| 50/50 [00:00<?, ?it/s]\n",
      "100%|███████████████████████████████████████████████████████████████████████████████| 50/50 [00:00<00:00, 49860.96it/s]\n",
      "100%|██████████████████████████████████████████████████████████████████████████████████████████| 50/50 [00:00<?, ?it/s]\n",
      "100%|██████████████████████████████████████████████████████████████████████████████████████████| 50/50 [00:00<?, ?it/s]\n",
      "100%|██████████████████████████████████████████████████████████████████████████████████████████| 50/50 [00:00<?, ?it/s]\n",
      "100%|██████████████████████████████████████████████████████████████████████████████████████████| 50/50 [00:00<?, ?it/s]\n",
      "100%|██████████████████████████████████████████████████████████████████████████████████████████| 50/50 [00:00<?, ?it/s]\n",
      "100%|███████████████████████████████████████████████████████████████████████████████| 50/50 [00:00<00:00, 49813.59it/s]\n",
      "100%|███████████████████████████████████████████████████████████████████████████████| 50/50 [00:00<00:00, 51187.50it/s]\n",
      "100%|██████████████████████████████████████████████████████████████████████████████████████████| 50/50 [00:00<?, ?it/s]\n",
      "100%|███████████████████████████████████████████████████████████████████████████████| 50/50 [00:00<00:00, 49813.59it/s]\n",
      "100%|███████████████████████████████████████████████████████████████████████████████| 50/50 [00:00<00:00, 49860.96it/s]\n",
      "100%|██████████████████████████████████████████████████████████████████████████████████████████| 50/50 [00:00<?, ?it/s]\n",
      "100%|██████████████████████████████████████████████████████████████████████████████████████████| 50/50 [00:00<?, ?it/s]\n",
      "100%|███████████████████████████████████████████████████████████████████████████████| 50/50 [00:00<00:00, 49884.68it/s]\n",
      "100%|███████████████████████████████████████████████████████████████████████████████| 50/50 [00:00<00:00, 50497.28it/s]\n",
      "100%|███████████████████████████████████████████████████████████████████████████████| 50/50 [00:00<00:00, 49079.15it/s]\n",
      "100%|██████████████████████████████████████████████████████████████████████████████████████████| 50/50 [00:00<?, ?it/s]\n",
      "100%|██████████████████████████████████████████████████████████████████████████████████████████| 50/50 [00:00<?, ?it/s]\n",
      "100%|███████████████████████████████████████████████████████████████████████████████| 50/50 [00:00<00:00, 49754.50it/s]\n",
      "100%|███████████████████████████████████████████████████████████████████████████████| 50/50 [00:00<00:00, 49719.11it/s]\n",
      "100%|███████████████████████████████████████████████████████████████████████████████| 50/50 [00:00<00:00, 50901.75it/s]\n"
     ]
    }
   ],
   "source": [
    "nearest_stations_list = [1,2,3,5,7,9]\n",
    "\n",
    "for x in nearest_stations_list:\n",
    "    write_interpolated_values('AWND',x,0.5)\n",
    "\n",
    "for x in nearest_stations_list:\n",
    "    write_interpolated_values('AWND',x,1)\n",
    "\n",
    "for x in nearest_stations_list:\n",
    "    write_interpolated_values('AWND',x,2)\n",
    "\n",
    "for x in nearest_stations_list:\n",
    "    write_interpolated_values('AWND',x,3)"
   ]
  },
  {
   "cell_type": "code",
   "execution_count": 28,
   "metadata": {},
   "outputs": [
    {
     "ename": "KeyError",
     "evalue": "'BELLEVILLE'",
     "output_type": "error",
     "traceback": [
      "\u001b[1;31m---------------------------------------------------------------------------\u001b[0m",
      "\u001b[1;31mKeyError\u001b[0m                                  Traceback (most recent call last)",
      "\u001b[1;32m<ipython-input-28-613a9da1f119>\u001b[0m in \u001b[0;36m<module>\u001b[1;34m()\u001b[0m\n\u001b[1;32m----> 1\u001b[1;33m \u001b[0mnot_dopped\u001b[0m \u001b[1;33m=\u001b[0m \u001b[0mIDW_interpolation\u001b[0m\u001b[1;33m(\u001b[0m\u001b[1;34m'BELLEVILLE'\u001b[0m\u001b[1;33m,\u001b[0m \u001b[1;34m'TMAX'\u001b[0m\u001b[1;33m,\u001b[0m \u001b[1;36m2\u001b[0m\u001b[1;33m,\u001b[0m\u001b[1;36m2\u001b[0m\u001b[1;33m)\u001b[0m\u001b[1;33m\u001b[0m\u001b[0m\n\u001b[0m\u001b[0;32m      2\u001b[0m \u001b[0mdropped\u001b[0m \u001b[1;33m=\u001b[0m \u001b[0mIDW_interpolation\u001b[0m\u001b[1;33m(\u001b[0m\u001b[1;34m'BELLEVILLE'\u001b[0m\u001b[1;33m,\u001b[0m \u001b[1;34m'TMAX'\u001b[0m\u001b[1;33m,\u001b[0m \u001b[1;36m2\u001b[0m\u001b[1;33m,\u001b[0m\u001b[1;36m2\u001b[0m\u001b[1;33m,\u001b[0m \u001b[1;32mTrue\u001b[0m\u001b[1;33m)\u001b[0m\u001b[1;33m\u001b[0m\u001b[0m\n",
      "\u001b[1;32m<ipython-input-23-f40b0984f915>\u001b[0m in \u001b[0;36mIDW_interpolation\u001b[1;34m(town, param, power, num_nearest, drop_invalid)\u001b[0m\n\u001b[0;32m      1\u001b[0m \u001b[1;32mdef\u001b[0m \u001b[0mIDW_interpolation\u001b[0m\u001b[1;33m(\u001b[0m\u001b[0mtown\u001b[0m\u001b[1;33m,\u001b[0m \u001b[0mparam\u001b[0m\u001b[1;33m,\u001b[0m \u001b[0mpower\u001b[0m\u001b[1;33m,\u001b[0m\u001b[0mnum_nearest\u001b[0m\u001b[1;33m,\u001b[0m \u001b[0mdrop_invalid\u001b[0m \u001b[1;33m=\u001b[0m \u001b[1;32mFalse\u001b[0m\u001b[1;33m)\u001b[0m\u001b[1;33m:\u001b[0m\u001b[1;33m\u001b[0m\u001b[0m\n\u001b[0;32m      2\u001b[0m     \u001b[0mnearest_stations\u001b[0m \u001b[1;33m=\u001b[0m \u001b[0mnearest_stat\u001b[0m\u001b[1;33m(\u001b[0m\u001b[0mnum_nearest\u001b[0m\u001b[1;33m)\u001b[0m\u001b[1;33m\u001b[0m\u001b[0m\n\u001b[1;32m----> 3\u001b[1;33m     \u001b[0mstation_id_list\u001b[0m \u001b[1;33m=\u001b[0m \u001b[1;33m[\u001b[0m\u001b[0mi\u001b[0m\u001b[1;33m[\u001b[0m\u001b[1;36m0\u001b[0m\u001b[1;33m]\u001b[0m \u001b[1;32mfor\u001b[0m \u001b[0mi\u001b[0m \u001b[1;32min\u001b[0m \u001b[0mnearest_stations\u001b[0m\u001b[1;33m[\u001b[0m\u001b[0mtown\u001b[0m\u001b[1;33m]\u001b[0m\u001b[1;33m]\u001b[0m\u001b[1;33m\u001b[0m\u001b[0m\n\u001b[0m\u001b[0;32m      4\u001b[0m     \u001b[0mdistance_list\u001b[0m \u001b[1;33m=\u001b[0m \u001b[1;33m[\u001b[0m\u001b[0mi\u001b[0m\u001b[1;33m[\u001b[0m\u001b[1;36m1\u001b[0m\u001b[1;33m]\u001b[0m \u001b[1;32mfor\u001b[0m \u001b[0mi\u001b[0m \u001b[1;32min\u001b[0m \u001b[0mnearest_stations\u001b[0m\u001b[1;33m[\u001b[0m\u001b[0mtown\u001b[0m\u001b[1;33m]\u001b[0m\u001b[1;33m]\u001b[0m\u001b[1;33m\u001b[0m\u001b[0m\n\u001b[0;32m      5\u001b[0m \u001b[1;33m\u001b[0m\u001b[0m\n",
      "\u001b[1;31mKeyError\u001b[0m: 'BELLEVILLE'"
     ]
    }
   ],
   "source": [
    "not_dopped = IDW_interpolation('BELLEVILLE', 'TMAX', 2,2)\n",
    "dropped = IDW_interpolation('BELLEVILLE', 'TMAX', 2,2, True)"
   ]
  },
  {
   "cell_type": "code",
   "execution_count": null,
   "metadata": {},
   "outputs": [],
   "source": [
    "not_dopped.equals(dropped)"
   ]
  },
  {
   "cell_type": "code",
   "execution_count": null,
   "metadata": {
    "scrolled": false
   },
   "outputs": [],
   "source": [
    "%%time\n",
    "IDW_interpolation('BELLEVILLE', 'PRCP', 2,2).head(10)"
   ]
  },
  {
   "cell_type": "code",
   "execution_count": null,
   "metadata": {
    "scrolled": true
   },
   "outputs": [],
   "source": [
    "%%time\n",
    "IDW_interpolation('BELLEVILLE', 'PRCP', 3).head(10)"
   ]
  },
  {
   "cell_type": "code",
   "execution_count": null,
   "metadata": {},
   "outputs": [],
   "source": [
    "def lineplot(combined_df):\n",
    "    \"\"\"\n",
    "    visualize the interpolated values for a certain parameter into a line plot\n",
    "    \"\"\"\n",
    "    df = combined_df[['DATE', combined_df.columns[-1]]].set_index('DATE')\n",
    "    df.index = pd.to_datetime(df.index)\n",
    "    sns.set_context({\"figure.figsize\": (15, 8)})\n",
    "    sns.set_style('darkgrid')\n",
    "    ax = df.plot()\n",
    "    plt.title('Line Plot of Interpolated Values')\n",
    "    plt.xticks(rotation = 45)\n",
    "    plt.show()"
   ]
  },
  {
   "cell_type": "code",
   "execution_count": null,
   "metadata": {
    "scrolled": true
   },
   "outputs": [],
   "source": [
    "lineplot(IDW_interpolation('BELLEVILLE', 'TMAX', 2))"
   ]
  },
  {
   "cell_type": "code",
   "execution_count": null,
   "metadata": {},
   "outputs": [],
   "source": [
    "def boxplot(combined_df):\n",
    "    \"\"\"\n",
    "    visualize the interpolated values for a certain parameter into a box plot\n",
    "    \"\"\"\n",
    "    combined_df = combined_df.set_index('DATE')\n",
    "    combined_df.index = pd.to_datetime(combined_df.index)\n",
    "    combined_df['Year'] = combined_df.index.year\n",
    "    \n",
    "    sns.set_context({\"figure.figsize\": (15, 8)})\n",
    "    ax = sns.boxplot(data = combined_df, x='Year',y= combined_df.columns[-2])\n",
    "    plt.title('Box Plot of Interpolated Values')\n",
    "    \n",
    "    plt.show()"
   ]
  },
  {
   "cell_type": "code",
   "execution_count": null,
   "metadata": {
    "scrolled": false
   },
   "outputs": [],
   "source": [
    "boxplot(IDW_interpolation('BELLEVILLE', 'TMAX', 2))"
   ]
  },
  {
   "cell_type": "code",
   "execution_count": null,
   "metadata": {},
   "outputs": [],
   "source": [
    "def write_interpolated_values(param, power = 3):\n",
    "    \"\"\"\n",
    "    write the interpolated values of a certain parameter into a csv\n",
    "    \"\"\"\n",
    "    with open(param + \"(p\" + str(power) + 'n' + str(num_nearest) +\").csv\",\"w\") as csvfile:\n",
    "        writer = csv.writer(csvfile, delimiter=',')\n",
    "        \n",
    "        writer.writerow(['CITY'] + list(IDW_interpolation(town_coord['City'][0], param, power).columns))\n",
    "\n",
    "        with tqdm (total = len(town_coord['City'])) as pbar:\n",
    "            for town in town_coord['City']:\n",
    "                combined_df = IDW_interpolation(town, param, power)\n",
    "                for index, row in combined_df.iterrows():\n",
    "                    writer.writerow([town] + [i for i in row])\n",
    "                pbar.update()"
   ]
  },
  {
   "cell_type": "code",
   "execution_count": null,
   "metadata": {},
   "outputs": [],
   "source": [
    "def write_interpolated_values_without_error_removal(param, power = 2):\n",
    "    \"\"\"\n",
    "    write the interpolated values of a certain parameter into a csv\n",
    "    \"\"\"\n",
    "    with open(param + \"_(p\" + str(power) + 'n' + str(num_nearest) +\").csv\",\"w\") as csvfile:\n",
    "        writer = csv.writer(csvfile, delimiter=',')\n",
    "        \n",
    "        writer.writerow(['CITY'] + list(IDW_interpolation(town_coord['City'][0], param, power).columns))\n",
    "\n",
    "        with tqdm (total = len(town_coord['City'])) as pbar:\n",
    "            for town in town_coord['City']:\n",
    "                combined_df = IDW_interpolation(town, param, power, True)\n",
    "                for index, row in combined_df.iterrows():\n",
    "                    writer.writerow([town] + [i for i in row])\n",
    "                pbar.update()"
   ]
  },
  {
   "cell_type": "code",
   "execution_count": null,
   "metadata": {},
   "outputs": [],
   "source": [
    "# p = 3 and n = 7\n",
    "\n",
    "\n",
    "def write_interpolated_values_p3_n7(param,num_nearest, power):\n",
    "    \"\"\"\n",
    "    write the interpolated values of a certain parameter into a csv\n",
    "    \"\"\"\n",
    "    with open(param + \"(p\" + str(power) + 'n' + str(num_nearest) +\").csv\",\"w\") as csvfile:\n",
    "        writer = csv.writer(csvfile, delimiter=',')\n",
    "        \n",
    "        writer.writerow(['CITY'] + list(IDW_interpolation(town_coord['City'][0], param, power, num_nearest).columns))\n",
    "\n",
    "        with tqdm (total = len(town_coord['City'])) as pbar:\n",
    "            for town in town_coord['City']:\n",
    "                combined_df = IDW_interpolation(town, param, power,num_nearest)\n",
    "                for index, row in combined_df.iterrows():\n",
    "                    writer.writerow([town] + [i for i in row])\n",
    "                pbar.update()"
   ]
  },
  {
   "cell_type": "code",
   "execution_count": null,
   "metadata": {},
   "outputs": [],
   "source": [
    "town = town_coord['City'][2]\n",
    "param = 'TMAX'\n",
    "num = 7\n",
    "num_nearest = 7\n",
    "power = 3\n",
    "\n",
    "station_id_list = [i[0] for i in nearest_stations[town]]\n",
    "distance_list = [i[1] for i in nearest_stations[town]]\n",
    "    \n",
    "\n",
    "combined_df = weather[weather['STATION'] == station_id_list[0]][['DATE', param]]\n",
    "for station_id in station_id_list[1:]:\n",
    "    temp_df = weather[weather['STATION'] == station_id][['DATE', param]]\n",
    "    combined_df = pd.merge(combined_df, temp_df, on = 'DATE', how = 'outer')\n",
    "combined_df.columns = ['DATE'] + [param+str(i) for i in range(num_nearest)]\n",
    "combined_df = combined_df.drop_duplicates(keep = 'first')"
   ]
  },
  {
   "cell_type": "code",
   "execution_count": null,
   "metadata": {},
   "outputs": [],
   "source": [
    "station_id_list"
   ]
  },
  {
   "cell_type": "code",
   "execution_count": null,
   "metadata": {},
   "outputs": [],
   "source": [
    "weather[weather['STATION'] == 'USW00093810'][['DATE', param]]"
   ]
  },
  {
   "cell_type": "code",
   "execution_count": null,
   "metadata": {},
   "outputs": [],
   "source": [
    "IDW_interpolation(town_coord['City'][2], 'TMAX', 3, 7)"
   ]
  },
  {
   "cell_type": "code",
   "execution_count": null,
   "metadata": {},
   "outputs": [],
   "source": [
    "write_interpolated_values_p3_n7('PRCP',7,3)"
   ]
  },
  {
   "cell_type": "code",
   "execution_count": null,
   "metadata": {},
   "outputs": [],
   "source": [
    "write_interpolated_values_p3_n7('TMAX',7,3)\n",
    "write_interpolated_values_p3_n7('AWND',7,3)"
   ]
  },
  {
   "cell_type": "code",
   "execution_count": null,
   "metadata": {},
   "outputs": [],
   "source": [
    "write_interpolated_values_p3_n7('TMIN',7,3)"
   ]
  },
  {
   "cell_type": "code",
   "execution_count": null,
   "metadata": {},
   "outputs": [],
   "source": []
  }
 ],
 "metadata": {
  "kernelspec": {
   "display_name": "Python 3",
   "language": "python",
   "name": "python3"
  },
  "language_info": {
   "codemirror_mode": {
    "name": "ipython",
    "version": 3
   },
   "file_extension": ".py",
   "mimetype": "text/x-python",
   "name": "python",
   "nbconvert_exporter": "python",
   "pygments_lexer": "ipython3",
   "version": "3.6.5"
  }
 },
 "nbformat": 4,
 "nbformat_minor": 2
}
